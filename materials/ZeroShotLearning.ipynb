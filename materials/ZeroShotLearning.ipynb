{
 "cells": [
  {
   "cell_type": "code",
   "execution_count": 1,
   "metadata": {
    "Collapsed": "false",
    "collapsed": true,
    "jupyter": {
     "outputs_hidden": true
    }
   },
   "outputs": [
    {
     "name": "stderr",
     "output_type": "stream",
     "text": [
      "Using TensorFlow backend.\n",
      "/home/pecey/.local/lib/python3.7/site-packages/tensorflow/python/framework/dtypes.py:516: FutureWarning: Passing (type, 1) or '1type' as a synonym of type is deprecated; in a future version of numpy, it will be understood as (type, (1,)) / '(1,)type'.\n",
      "  _np_qint8 = np.dtype([(\"qint8\", np.int8, 1)])\n",
      "/home/pecey/.local/lib/python3.7/site-packages/tensorflow/python/framework/dtypes.py:517: FutureWarning: Passing (type, 1) or '1type' as a synonym of type is deprecated; in a future version of numpy, it will be understood as (type, (1,)) / '(1,)type'.\n",
      "  _np_quint8 = np.dtype([(\"quint8\", np.uint8, 1)])\n",
      "/home/pecey/.local/lib/python3.7/site-packages/tensorflow/python/framework/dtypes.py:518: FutureWarning: Passing (type, 1) or '1type' as a synonym of type is deprecated; in a future version of numpy, it will be understood as (type, (1,)) / '(1,)type'.\n",
      "  _np_qint16 = np.dtype([(\"qint16\", np.int16, 1)])\n",
      "/home/pecey/.local/lib/python3.7/site-packages/tensorflow/python/framework/dtypes.py:519: FutureWarning: Passing (type, 1) or '1type' as a synonym of type is deprecated; in a future version of numpy, it will be understood as (type, (1,)) / '(1,)type'.\n",
      "  _np_quint16 = np.dtype([(\"quint16\", np.uint16, 1)])\n",
      "/home/pecey/.local/lib/python3.7/site-packages/tensorflow/python/framework/dtypes.py:520: FutureWarning: Passing (type, 1) or '1type' as a synonym of type is deprecated; in a future version of numpy, it will be understood as (type, (1,)) / '(1,)type'.\n",
      "  _np_qint32 = np.dtype([(\"qint32\", np.int32, 1)])\n",
      "/home/pecey/.local/lib/python3.7/site-packages/tensorflow/python/framework/dtypes.py:525: FutureWarning: Passing (type, 1) or '1type' as a synonym of type is deprecated; in a future version of numpy, it will be understood as (type, (1,)) / '(1,)type'.\n",
      "  np_resource = np.dtype([(\"resource\", np.ubyte, 1)])\n",
      "/home/pecey/.local/lib/python3.7/site-packages/tensorboard/compat/tensorflow_stub/dtypes.py:541: FutureWarning: Passing (type, 1) or '1type' as a synonym of type is deprecated; in a future version of numpy, it will be understood as (type, (1,)) / '(1,)type'.\n",
      "  _np_qint8 = np.dtype([(\"qint8\", np.int8, 1)])\n",
      "/home/pecey/.local/lib/python3.7/site-packages/tensorboard/compat/tensorflow_stub/dtypes.py:542: FutureWarning: Passing (type, 1) or '1type' as a synonym of type is deprecated; in a future version of numpy, it will be understood as (type, (1,)) / '(1,)type'.\n",
      "  _np_quint8 = np.dtype([(\"quint8\", np.uint8, 1)])\n",
      "/home/pecey/.local/lib/python3.7/site-packages/tensorboard/compat/tensorflow_stub/dtypes.py:543: FutureWarning: Passing (type, 1) or '1type' as a synonym of type is deprecated; in a future version of numpy, it will be understood as (type, (1,)) / '(1,)type'.\n",
      "  _np_qint16 = np.dtype([(\"qint16\", np.int16, 1)])\n",
      "/home/pecey/.local/lib/python3.7/site-packages/tensorboard/compat/tensorflow_stub/dtypes.py:544: FutureWarning: Passing (type, 1) or '1type' as a synonym of type is deprecated; in a future version of numpy, it will be understood as (type, (1,)) / '(1,)type'.\n",
      "  _np_quint16 = np.dtype([(\"quint16\", np.uint16, 1)])\n",
      "/home/pecey/.local/lib/python3.7/site-packages/tensorboard/compat/tensorflow_stub/dtypes.py:545: FutureWarning: Passing (type, 1) or '1type' as a synonym of type is deprecated; in a future version of numpy, it will be understood as (type, (1,)) / '(1,)type'.\n",
      "  _np_qint32 = np.dtype([(\"qint32\", np.int32, 1)])\n",
      "/home/pecey/.local/lib/python3.7/site-packages/tensorboard/compat/tensorflow_stub/dtypes.py:550: FutureWarning: Passing (type, 1) or '1type' as a synonym of type is deprecated; in a future version of numpy, it will be understood as (type, (1,)) / '(1,)type'.\n",
      "  np_resource = np.dtype([(\"resource\", np.ubyte, 1)])\n"
     ]
    }
   ],
   "source": [
    "from __future__ import absolute_import\n",
    "from __future__ import print_function\n",
    "import numpy as np\n",
    "import random\n",
    "import pandas as pd\n",
    "\n",
    "from keras.datasets import mnist\n",
    "from keras.models import Model, Sequential\n",
    "from keras.layers import Input, Conv2D, Flatten, Dense, Dropout, Lambda, Add, Subtract, MaxPooling2D\n",
    "from keras.optimizers import RMSprop\n",
    "from keras import backend as K\n",
    "from keras.regularizers import l2\n",
    "from numpy.random import permutation\n",
    "from sklearn.model_selection import train_test_split\n",
    "from matplotlib import pyplot as plt\n",
    "\n",
    "import warnings\n",
    "warnings.filterwarnings('ignore')"
   ]
  },
  {
   "cell_type": "code",
   "execution_count": 132,
   "metadata": {
    "Collapsed": "false"
   },
   "outputs": [],
   "source": [
    "np.random.seed(12345)"
   ]
  },
  {
   "cell_type": "code",
   "execution_count": 133,
   "metadata": {
    "Collapsed": "false"
   },
   "outputs": [],
   "source": [
    "plt.rcParams[\"figure.figsize\"] = (14,8)"
   ]
  },
  {
   "cell_type": "code",
   "execution_count": 134,
   "metadata": {
    "Collapsed": "false"
   },
   "outputs": [],
   "source": [
    "num_classes = 10\n",
    "epochs = 10\n",
    "\n",
    "class_1 = 1\n",
    "class_2 = 1\n",
    "n_same_class_samples = 5000\n",
    "n_diff_class_samples = 1500  # 3000\n",
    "n_hybrid_class_samples = 1750\n",
    "\n",
    "classes_to_train = [0,1,2,3,4,5,6,7,8,9]"
   ]
  },
  {
   "cell_type": "code",
   "execution_count": 135,
   "metadata": {
    "Collapsed": "false"
   },
   "outputs": [],
   "source": [
    "def generate_example_pairs(data, indices, class_1, class_2):\n",
    "    class_1_indices = indices[class_1]\n",
    "    class_2_indices = indices[class_2]\n",
    "\n",
    "    image_0 = data[np.random.choice(class_1_indices)]\n",
    "    image_1 = data[np.random.choice(class_2_indices)]\n",
    "    # return [image_0, image_1]\n",
    "    return [image_0.reshape(28,28,1), image_1.reshape(28,28,1)]\n",
    "\n",
    "\n",
    "def generate_examples(data, indices, class_1, class_2):\n",
    "    same_classes = [generate_example_pairs(data, indices, class_1, class_1) for _ in range(n_same_class_samples)]\n",
    "    different_classes = [generate_example_pairs(data, indices,\n",
    "                                                       np.random.choice(list(set(classes_to_train) - {class_1})),\n",
    "                                                       np.random.choice(list(set(classes_to_train) - {class_2})))\n",
    "                                for _ in range(n_diff_class_samples)]\n",
    "    hybrid_classes = [generate_example_pairs(data, indices, class_1, np.random.choice(list(set(classes_to_train) - {class_2}))) for _ in range(n_hybrid_class_samples)] + \\\n",
    "                     [generate_example_pairs(data, indices, class_2, np.random.choice(list(set(classes_to_train) - {class_1}))) for _ in range(n_hybrid_class_samples)]\n",
    "\n",
    "    images = same_classes + different_classes + hybrid_classes\n",
    "    labels = [1] * n_same_class_samples + [0] * (n_diff_class_samples + n_hybrid_class_samples + n_hybrid_class_samples)\n",
    "    return np.array(images), np.array(labels)"
   ]
  },
  {
   "cell_type": "code",
   "execution_count": 136,
   "metadata": {
    "Collapsed": "false"
   },
   "outputs": [],
   "source": [
    "# https://keras.io/examples/mnist_siamese/\n",
    "def create_base_network(input_shape):\n",
    "    input = Input(shape=input_shape)\n",
    "    x = Flatten()(input)\n",
    "    x = Dense(128, activation='relu')(x)\n",
    "    x = Dropout(0.1)(x)\n",
    "    x = Dense(128, activation='relu')(x)\n",
    "    x = Dropout(0.1)(x)\n",
    "    x = Dense(128, activation='relu')(x)\n",
    "    return Model(input, x)"
   ]
  },
  {
   "cell_type": "code",
   "execution_count": 137,
   "metadata": {
    "Collapsed": "false"
   },
   "outputs": [],
   "source": [
    "def create_conv_network(input_shape):\n",
    "    convnet = Sequential()\n",
    "    convnet.add(Conv2D(32,(3,3),padding=\"same\",activation='relu',input_shape=input_shape))\n",
    "    convnet.add(MaxPooling2D())\n",
    "    convnet.add(Conv2D(64,(7,7), padding=\"same\", activation='relu'))\n",
    "    convnet.add(MaxPooling2D())\n",
    "    convnet.add(Conv2D(64,(4,4), padding = \"same\", activation='relu'))\n",
    "    convnet.add(Flatten())\n",
    "    convnet.add(Dense(64,activation=\"sigmoid\"))\n",
    "    return convnet"
   ]
  },
  {
   "cell_type": "code",
   "execution_count": 138,
   "metadata": {
    "Collapsed": "false"
   },
   "outputs": [],
   "source": [
    "def contrastive_loss(y_true, y_pred):\n",
    "    '''Contrastive loss from Hadsell-et-al.'06\n",
    "    http://yann.lecun.com/exdb/publis/pdf/hadsell-chopra-lecun-06.pdf\n",
    "    '''\n",
    "    margin = 1\n",
    "    square_pred = K.square(y_pred)\n",
    "    margin_square = K.square(K.maximum(margin - y_pred, 0))\n",
    "    #   return K.mean(y_true * square_pred + (1-y_true) * margin_square)\n",
    "    return K.mean(y_true * margin_square + (1 - y_true) * square_pred)"
   ]
  },
  {
   "cell_type": "code",
   "execution_count": 139,
   "metadata": {
    "Collapsed": "false"
   },
   "outputs": [],
   "source": [
    "def accuracy(y_true, y_pred):\n",
    "    return K.mean(K.equal(y_true, K.cast(y_pred > 0.5, y_true.dtype)))\n",
    "\n",
    "def recall_m(y_true, y_pred):\n",
    "    y_pred = K.cast(y_pred > 0.5, y_true.dtype)\n",
    "\n",
    "    true_positives = (K.round(K.clip(y_true * y_pred, 0, 1)))\n",
    "    possible_positives = (K.round(K.clip(y_true, 0, 1)))\n",
    "    recall = K.mean(K.equal(true_positives, possible_positives))\n",
    "    return recall\n",
    "\n",
    "def precision_m(y_true, y_pred):\n",
    "    y_pred = K.cast(y_pred > 0.5, y_true.dtype)\n",
    "    true_positives = (K.round(K.clip(y_true * y_pred, 0, 1)))\n",
    "    predicted_positives = (K.round(K.clip(y_pred, 0, 1)))\n",
    "    precision = K.mean(K.equal(true_positives, predicted_positives))\n",
    "    return precision\n",
    "\n",
    "def f1_m(y_true, y_pred):\n",
    "    precision = precision_m(y_true, y_pred)\n",
    "    recall = recall_m(y_true, y_pred)\n",
    "    return 2 * ((precision * recall) / (precision + recall + K.epsilon()))"
   ]
  },
  {
   "cell_type": "code",
   "execution_count": 140,
   "metadata": {
    "Collapsed": "false"
   },
   "outputs": [],
   "source": [
    "def compute_accuracy(y_true, y_pred, threshold = 0.5):\n",
    "    pred = y_pred.ravel() > threshold\n",
    "    return np.mean(pred == y_true)"
   ]
  },
  {
   "cell_type": "code",
   "execution_count": 141,
   "metadata": {
    "Collapsed": "false"
   },
   "outputs": [],
   "source": [
    "(x_train, y_train), (x_test, y_test) = mnist.load_data()\n",
    "x_train = x_train.astype('float32')\n",
    "x_test = x_test.astype('float32')\n",
    "x_train /= 255\n",
    "x_test /= 255\n",
    "input_shape = (28,28, 1)"
   ]
  },
  {
   "cell_type": "markdown",
   "metadata": {
    "Collapsed": "false"
   },
   "source": [
    "# Class to Class SM"
   ]
  },
  {
   "cell_type": "code",
   "execution_count": 142,
   "metadata": {
    "Collapsed": "false"
   },
   "outputs": [],
   "source": [
    "def C2C_SN(c1, c2):\n",
    "    # create training+test positive and negative pairs\n",
    "    training_digit_indices = {i:np.where(y_train == i)[0] for i in classes_to_train}\n",
    "    training_pairs, training_label = generate_examples(x_train, training_digit_indices, c1, c2)\n",
    "\n",
    "    # Use the classes that are being trained upon from the test data as the validation\n",
    "    testing_digit_indices = {i:np.where(y_test == i)[0] for i in classes_to_train}\n",
    "    testing_pairs, testing_label = generate_examples(x_test, testing_digit_indices, c1, c2)\n",
    "\n",
    "    # network definition\n",
    "    base_network = create_conv_network(input_shape)\n",
    "\n",
    "    #base_network.summary()\n",
    "    input_a = Input(shape=input_shape)\n",
    "    input_b = Input(shape=input_shape) \n",
    "\n",
    "    processed_a = base_network(input_a)\n",
    "    processed_b = base_network(input_b)\n",
    "\n",
    "    # c2c lower model\n",
    "    subtracted = Subtract()([processed_a, processed_b])\n",
    "    x = Lambda(lambda val: abs(val))(subtracted)\n",
    "    x = Dense(128, activation='relu')(x)\n",
    "    x = Dense(128, activation='relu')(x)\n",
    "    x = Dense(128, activation='relu')(x)\n",
    "    x = Dense(128, activation='relu')(x)\n",
    "    out = Dense(1, activation=\"sigmoid\")(x)\n",
    "    model = Model([input_a, input_b], out)\n",
    "\n",
    "    rms = RMSprop()\n",
    "    model.compile(loss=contrastive_loss, optimizer=rms, metrics=[accuracy, recall_m, precision_m, f1_m])\n",
    "    model.fit([training_pairs[:,0], training_pairs[:,1]], training_label,\n",
    "              batch_size=128,\n",
    "              epochs=epochs,\n",
    "              validation_data=([testing_pairs[:, 0], testing_pairs[:, 1]], testing_label))\n",
    "    \n",
    "    return model"
   ]
  },
  {
   "cell_type": "code",
   "execution_count": 143,
   "metadata": {
    "Collapsed": "false",
    "collapsed": true,
    "jupyter": {
     "outputs_hidden": true
    }
   },
   "outputs": [
    {
     "name": "stdout",
     "output_type": "stream",
     "text": [
      "Train on 10000 samples, validate on 10000 samples\n",
      "Epoch 1/10\n",
      "10000/10000 [==============================] - 16s 2ms/step - loss: 0.0585 - accuracy: 0.9223 - recall_m: 0.9647 - precision_m: 0.9576 - f1_m: 0.9574 - val_loss: 0.0367 - val_accuracy: 0.9577 - val_recall_m: 0.9978 - val_precision_m: 0.9598 - val_f1_m: 0.9777\n",
      "Epoch 2/10\n",
      "10000/10000 [==============================] - 17s 2ms/step - loss: 0.0140 - accuracy: 0.9826 - recall_m: 0.9908 - precision_m: 0.9918 - f1_m: 0.9912 - val_loss: 0.0120 - val_accuracy: 0.9862 - val_recall_m: 0.9971 - val_precision_m: 0.9890 - val_f1_m: 0.9930\n",
      "Epoch 3/10\n",
      "10000/10000 [==============================] - 17s 2ms/step - loss: 0.0080 - accuracy: 0.9899 - recall_m: 0.9944 - precision_m: 0.9955 - f1_m: 0.9949 - val_loss: 0.0075 - val_accuracy: 0.9918 - val_recall_m: 0.9968 - val_precision_m: 0.9950 - val_f1_m: 0.9959\n",
      "Epoch 4/10\n",
      "10000/10000 [==============================] - 17s 2ms/step - loss: 0.0051 - accuracy: 0.9942 - recall_m: 0.9969 - precision_m: 0.9972 - f1_m: 0.9970 - val_loss: 0.0065 - val_accuracy: 0.9929 - val_recall_m: 0.9979 - val_precision_m: 0.9950 - val_f1_m: 0.9964\n",
      "Epoch 5/10\n",
      "10000/10000 [==============================] - 17s 2ms/step - loss: 0.0054 - accuracy: 0.9930 - recall_m: 0.9957 - precision_m: 0.9972 - f1_m: 0.9964 - val_loss: 0.0078 - val_accuracy: 0.9909 - val_recall_m: 0.9983 - val_precision_m: 0.9926 - val_f1_m: 0.9954\n",
      "Epoch 6/10\n",
      "10000/10000 [==============================] - 17s 2ms/step - loss: 0.0026 - accuracy: 0.9970 - recall_m: 0.9988 - precision_m: 0.9982 - f1_m: 0.9985 - val_loss: 0.0078 - val_accuracy: 0.9916 - val_recall_m: 0.9972 - val_precision_m: 0.9944 - val_f1_m: 0.9958\n",
      "Epoch 7/10\n",
      "10000/10000 [==============================] - 17s 2ms/step - loss: 0.0027 - accuracy: 0.9966 - recall_m: 0.9979 - precision_m: 0.9987 - f1_m: 0.9983 - val_loss: 0.0050 - val_accuracy: 0.9946 - val_recall_m: 0.9978 - val_precision_m: 0.9967 - val_f1_m: 0.9973\n",
      "Epoch 8/10\n",
      "10000/10000 [==============================] - 17s 2ms/step - loss: 0.0028 - accuracy: 0.9967 - recall_m: 0.9989 - precision_m: 0.9978 - f1_m: 0.9984 - val_loss: 0.0049 - val_accuracy: 0.9945 - val_recall_m: 0.9969 - val_precision_m: 0.9975 - val_f1_m: 0.9972\n",
      "Epoch 9/10\n",
      "10000/10000 [==============================] - 17s 2ms/step - loss: 0.0022 - accuracy: 0.9977 - recall_m: 0.9992 - precision_m: 0.9985 - f1_m: 0.9989 - val_loss: 0.0061 - val_accuracy: 0.9934 - val_recall_m: 0.9976 - val_precision_m: 0.9957 - val_f1_m: 0.9967\n",
      "Epoch 10/10\n",
      "10000/10000 [==============================] - 17s 2ms/step - loss: 0.0015 - accuracy: 0.9983 - recall_m: 0.9993 - precision_m: 0.9990 - f1_m: 0.9992 - val_loss: 0.0058 - val_accuracy: 0.9938 - val_recall_m: 0.9974 - val_precision_m: 0.9963 - val_f1_m: 0.9969\n",
      "Train on 10000 samples, validate on 10000 samples\n",
      "Epoch 1/10\n",
      "10000/10000 [==============================] - 17s 2ms/step - loss: 0.0563 - accuracy: 0.9299 - recall_m: 0.9595 - precision_m: 0.9704 - f1_m: 0.9614 - val_loss: 0.0123 - val_accuracy: 0.9854 - val_recall_m: 0.9984 - val_precision_m: 0.9869 - val_f1_m: 0.9925\n",
      "Epoch 2/10\n",
      "10000/10000 [==============================] - 17s 2ms/step - loss: 0.0153 - accuracy: 0.9815 - recall_m: 0.9907 - precision_m: 0.9908 - f1_m: 0.9906 - val_loss: 0.0062 - val_accuracy: 0.9926 - val_recall_m: 0.9952 - val_precision_m: 0.9974 - val_f1_m: 0.9963\n",
      "Epoch 3/10\n",
      "10000/10000 [==============================] - 17s 2ms/step - loss: 0.0082 - accuracy: 0.9886 - recall_m: 0.9930 - precision_m: 0.9956 - f1_m: 0.9942 - val_loss: 0.0061 - val_accuracy: 0.9920 - val_recall_m: 0.9940 - val_precision_m: 0.9980 - val_f1_m: 0.9960\n",
      "Epoch 4/10\n",
      "10000/10000 [==============================] - 17s 2ms/step - loss: 0.0067 - accuracy: 0.9921 - recall_m: 0.9963 - precision_m: 0.9957 - f1_m: 0.9960 - val_loss: 0.0034 - val_accuracy: 0.9955 - val_recall_m: 0.9986 - val_precision_m: 0.9969 - val_f1_m: 0.9978\n",
      "Epoch 5/10\n",
      "10000/10000 [==============================] - 17s 2ms/step - loss: 0.0057 - accuracy: 0.9930 - recall_m: 0.9959 - precision_m: 0.9970 - f1_m: 0.9964 - val_loss: 0.0034 - val_accuracy: 0.9960 - val_recall_m: 0.9992 - val_precision_m: 0.9968 - val_f1_m: 0.9980\n",
      "Epoch 6/10\n",
      "10000/10000 [==============================] - 17s 2ms/step - loss: 0.0029 - accuracy: 0.9965 - recall_m: 0.9982 - precision_m: 0.9983 - f1_m: 0.9983 - val_loss: 0.0044 - val_accuracy: 0.9949 - val_recall_m: 0.9992 - val_precision_m: 0.9956 - val_f1_m: 0.9974\n",
      "Epoch 7/10\n",
      "10000/10000 [==============================] - 17s 2ms/step - loss: 0.0033 - accuracy: 0.9958 - recall_m: 0.9978 - precision_m: 0.9980 - f1_m: 0.9979 - val_loss: 0.0045 - val_accuracy: 0.9938 - val_recall_m: 0.9949 - val_precision_m: 0.9989 - val_f1_m: 0.9969\n",
      "Epoch 8/10\n",
      "10000/10000 [==============================] - 17s 2ms/step - loss: 0.0021 - accuracy: 0.9967 - recall_m: 0.9982 - precision_m: 0.9985 - f1_m: 0.9983 - val_loss: 0.0163 - val_accuracy: 0.9755 - val_recall_m: 0.9761 - val_precision_m: 0.9994 - val_f1_m: 0.9874\n",
      "Epoch 9/10\n",
      "10000/10000 [==============================] - 17s 2ms/step - loss: 0.0016 - accuracy: 0.9978 - recall_m: 0.9985 - precision_m: 0.9993 - f1_m: 0.9989 - val_loss: 0.0046 - val_accuracy: 0.9947 - val_recall_m: 0.9960 - val_precision_m: 0.9986 - val_f1_m: 0.9973\n",
      "Epoch 10/10\n",
      "10000/10000 [==============================] - 17s 2ms/step - loss: 0.0024 - accuracy: 0.9973 - recall_m: 0.9983 - precision_m: 0.9990 - f1_m: 0.9986 - val_loss: 0.0032 - val_accuracy: 0.9965 - val_recall_m: 0.9987 - val_precision_m: 0.9978 - val_f1_m: 0.9983\n",
      "Train on 10000 samples, validate on 10000 samples\n",
      "Epoch 1/10\n",
      "10000/10000 [==============================] - 17s 2ms/step - loss: 0.0818 - accuracy: 0.8829 - recall_m: 0.9491 - precision_m: 0.9338 - f1_m: 0.9339 - val_loss: 0.0191 - val_accuracy: 0.9755 - val_recall_m: 0.9924 - val_precision_m: 0.9831 - val_f1_m: 0.9875\n",
      "Epoch 2/10\n",
      "10000/10000 [==============================] - 17s 2ms/step - loss: 0.0191 - accuracy: 0.9778 - recall_m: 0.9889 - precision_m: 0.9889 - f1_m: 0.9888 - val_loss: 0.0226 - val_accuracy: 0.9708 - val_recall_m: 0.9989 - val_precision_m: 0.9719 - val_f1_m: 0.9848\n",
      "Epoch 3/10\n",
      "10000/10000 [==============================] - 17s 2ms/step - loss: 0.0135 - accuracy: 0.9838 - recall_m: 0.9922 - precision_m: 0.9916 - f1_m: 0.9918 - val_loss: 0.0087 - val_accuracy: 0.9884 - val_recall_m: 0.9926 - val_precision_m: 0.9958 - val_f1_m: 0.9941\n",
      "Epoch 4/10\n",
      "10000/10000 [==============================] - 17s 2ms/step - loss: 0.0091 - accuracy: 0.9886 - recall_m: 0.9936 - precision_m: 0.9951 - f1_m: 0.9943 - val_loss: 0.0080 - val_accuracy: 0.9896 - val_recall_m: 0.9932 - val_precision_m: 0.9964 - val_f1_m: 0.9948\n",
      "Epoch 5/10\n",
      "10000/10000 [==============================] - 17s 2ms/step - loss: 0.0058 - accuracy: 0.9935 - recall_m: 0.9971 - precision_m: 0.9963 - f1_m: 0.9967 - val_loss: 0.0110 - val_accuracy: 0.9867 - val_recall_m: 0.9900 - val_precision_m: 0.9967 - val_f1_m: 0.9933\n",
      "Epoch 6/10\n",
      "10000/10000 [==============================] - 17s 2ms/step - loss: 0.0057 - accuracy: 0.9927 - recall_m: 0.9963 - precision_m: 0.9963 - f1_m: 0.9963 - val_loss: 0.0073 - val_accuracy: 0.9906 - val_recall_m: 0.9965 - val_precision_m: 0.9941 - val_f1_m: 0.9953\n",
      "Epoch 7/10\n",
      "10000/10000 [==============================] - 17s 2ms/step - loss: 0.0044 - accuracy: 0.9948 - recall_m: 0.9976 - precision_m: 0.9971 - f1_m: 0.9974 - val_loss: 0.0073 - val_accuracy: 0.9899 - val_recall_m: 0.9973 - val_precision_m: 0.9926 - val_f1_m: 0.9949\n",
      "Epoch 8/10\n",
      "10000/10000 [==============================] - 17s 2ms/step - loss: 0.0028 - accuracy: 0.9959 - recall_m: 0.9975 - precision_m: 0.9984 - f1_m: 0.9980 - val_loss: 0.0325 - val_accuracy: 0.9613 - val_recall_m: 0.9999 - val_precision_m: 0.9614 - val_f1_m: 0.9797\n",
      "Epoch 9/10\n",
      "10000/10000 [==============================] - 17s 2ms/step - loss: 0.0029 - accuracy: 0.9962 - recall_m: 0.9980 - precision_m: 0.9982 - f1_m: 0.9981 - val_loss: 0.0071 - val_accuracy: 0.9892 - val_recall_m: 0.9941 - val_precision_m: 0.9952 - val_f1_m: 0.9945\n",
      "Epoch 10/10\n",
      "10000/10000 [==============================] - 17s 2ms/step - loss: 0.0021 - accuracy: 0.9975 - recall_m: 0.9991 - precision_m: 0.9984 - f1_m: 0.9988 - val_loss: 0.0093 - val_accuracy: 0.9894 - val_recall_m: 0.9920 - val_precision_m: 0.9974 - val_f1_m: 0.9947\n",
      "Train on 10000 samples, validate on 10000 samples\n",
      "Epoch 1/10\n",
      "10000/10000 [==============================] - 17s 2ms/step - loss: 0.1011 - accuracy: 0.8612 - recall_m: 0.9465 - precision_m: 0.9147 - f1_m: 0.9207 - val_loss: 0.0806 - val_accuracy: 0.8874 - val_recall_m: 0.8900 - val_precision_m: 0.9973 - val_f1_m: 0.9366\n",
      "Epoch 2/10\n",
      "10000/10000 [==============================] - 17s 2ms/step - loss: 0.0254 - accuracy: 0.9676 - recall_m: 0.9816 - precision_m: 0.9860 - f1_m: 0.9835 - val_loss: 0.0317 - val_accuracy: 0.9579 - val_recall_m: 0.9608 - val_precision_m: 0.9970 - val_f1_m: 0.9780\n",
      "Epoch 3/10\n",
      "10000/10000 [==============================] - 17s 2ms/step - loss: 0.0146 - accuracy: 0.9816 - recall_m: 0.9890 - precision_m: 0.9926 - f1_m: 0.9907 - val_loss: 0.1170 - val_accuracy: 0.8625 - val_recall_m: 1.0000 - val_precision_m: 0.8625 - val_f1_m: 0.9194\n",
      "Epoch 4/10\n",
      "10000/10000 [==============================] - 17s 2ms/step - loss: 0.0101 - accuracy: 0.9880 - recall_m: 0.9936 - precision_m: 0.9945 - f1_m: 0.9939 - val_loss: 0.0098 - val_accuracy: 0.9883 - val_recall_m: 0.9930 - val_precision_m: 0.9954 - val_f1_m: 0.9941\n",
      "Epoch 5/10\n",
      "10000/10000 [==============================] - 17s 2ms/step - loss: 0.0073 - accuracy: 0.9911 - recall_m: 0.9947 - precision_m: 0.9964 - f1_m: 0.9955 - val_loss: 0.0139 - val_accuracy: 0.9818 - val_recall_m: 0.9830 - val_precision_m: 0.9988 - val_f1_m: 0.9907\n",
      "Epoch 6/10\n",
      "10000/10000 [==============================] - 17s 2ms/step - loss: 0.0053 - accuracy: 0.9929 - recall_m: 0.9958 - precision_m: 0.9970 - f1_m: 0.9964 - val_loss: 0.0050 - val_accuracy: 0.9936 - val_recall_m: 0.9961 - val_precision_m: 0.9974 - val_f1_m: 0.9968\n",
      "Epoch 7/10\n",
      "10000/10000 [==============================] - 17s 2ms/step - loss: 0.0043 - accuracy: 0.9950 - recall_m: 0.9973 - precision_m: 0.9976 - f1_m: 0.9975 - val_loss: 0.0044 - val_accuracy: 0.9941 - val_recall_m: 0.9965 - val_precision_m: 0.9975 - val_f1_m: 0.9970\n",
      "Epoch 8/10\n",
      "10000/10000 [==============================] - 17s 2ms/step - loss: 0.0035 - accuracy: 0.9957 - recall_m: 0.9980 - precision_m: 0.9977 - f1_m: 0.9979 - val_loss: 0.0061 - val_accuracy: 0.9930 - val_recall_m: 0.9996 - val_precision_m: 0.9934 - val_f1_m: 0.9965\n",
      "Epoch 9/10\n",
      "10000/10000 [==============================] - 17s 2ms/step - loss: 0.0038 - accuracy: 0.9955 - recall_m: 0.9977 - precision_m: 0.9978 - f1_m: 0.9978 - val_loss: 0.0085 - val_accuracy: 0.9892 - val_recall_m: 0.9978 - val_precision_m: 0.9914 - val_f1_m: 0.9946\n",
      "Epoch 10/10\n",
      "10000/10000 [==============================] - 17s 2ms/step - loss: 0.0031 - accuracy: 0.9963 - recall_m: 0.9974 - precision_m: 0.9989 - f1_m: 0.9981 - val_loss: 0.0116 - val_accuracy: 0.9865 - val_recall_m: 0.9986 - val_precision_m: 0.9878 - val_f1_m: 0.9931\n",
      "Train on 10000 samples, validate on 10000 samples\n",
      "Epoch 1/10\n",
      "10000/10000 [==============================] - 18s 2ms/step - loss: 0.0739 - accuracy: 0.8974 - recall_m: 0.9583 - precision_m: 0.9392 - f1_m: 0.9416 - val_loss: 0.0139 - val_accuracy: 0.9836 - val_recall_m: 0.9978 - val_precision_m: 0.9858 - val_f1_m: 0.9916\n",
      "Epoch 2/10\n",
      "10000/10000 [==============================] - 17s 2ms/step - loss: 0.0183 - accuracy: 0.9782 - recall_m: 0.9882 - precision_m: 0.9900 - f1_m: 0.9890 - val_loss: 0.0066 - val_accuracy: 0.9926 - val_recall_m: 0.9980 - val_precision_m: 0.9946 - val_f1_m: 0.9963\n",
      "Epoch 3/10\n",
      "10000/10000 [==============================] - 17s 2ms/step - loss: 0.0103 - accuracy: 0.9875 - recall_m: 0.9931 - precision_m: 0.9945 - f1_m: 0.9937 - val_loss: 0.0070 - val_accuracy: 0.9926 - val_recall_m: 0.9993 - val_precision_m: 0.9933 - val_f1_m: 0.9962\n",
      "Epoch 4/10\n",
      "10000/10000 [==============================] - 17s 2ms/step - loss: 0.0087 - accuracy: 0.9893 - recall_m: 0.9928 - precision_m: 0.9965 - f1_m: 0.9946 - val_loss: 0.0064 - val_accuracy: 0.9925 - val_recall_m: 0.9982 - val_precision_m: 0.9943 - val_f1_m: 0.9962\n",
      "Epoch 5/10\n",
      "10000/10000 [==============================] - 17s 2ms/step - loss: 0.0075 - accuracy: 0.9909 - recall_m: 0.9946 - precision_m: 0.9963 - f1_m: 0.9954 - val_loss: 0.0050 - val_accuracy: 0.9950 - val_recall_m: 0.9989 - val_precision_m: 0.9960 - val_f1_m: 0.9975\n",
      "Epoch 6/10\n",
      "10000/10000 [==============================] - 17s 2ms/step - loss: 0.0058 - accuracy: 0.9935 - recall_m: 0.9971 - precision_m: 0.9963 - f1_m: 0.9967 - val_loss: 0.0041 - val_accuracy: 0.9951 - val_recall_m: 0.9982 - val_precision_m: 0.9968 - val_f1_m: 0.9975\n",
      "Epoch 7/10\n",
      "10000/10000 [==============================] - 17s 2ms/step - loss: 0.0056 - accuracy: 0.9934 - recall_m: 0.9961 - precision_m: 0.9972 - f1_m: 0.9967 - val_loss: 0.0035 - val_accuracy: 0.9955 - val_recall_m: 0.9978 - val_precision_m: 0.9977 - val_f1_m: 0.9978\n",
      "Epoch 8/10\n",
      "10000/10000 [==============================] - 17s 2ms/step - loss: 0.0045 - accuracy: 0.9945 - recall_m: 0.9968 - precision_m: 0.9976 - f1_m: 0.9972 - val_loss: 0.0052 - val_accuracy: 0.9930 - val_recall_m: 0.9949 - val_precision_m: 0.9981 - val_f1_m: 0.9965\n",
      "Epoch 9/10\n",
      "10000/10000 [==============================] - 17s 2ms/step - loss: 0.0031 - accuracy: 0.9965 - recall_m: 0.9980 - precision_m: 0.9985 - f1_m: 0.9983 - val_loss: 0.0134 - val_accuracy: 0.9829 - val_recall_m: 0.9842 - val_precision_m: 0.9987 - val_f1_m: 0.9913\n",
      "Epoch 10/10\n",
      "10000/10000 [==============================] - 17s 2ms/step - loss: 0.0040 - accuracy: 0.9955 - recall_m: 0.9973 - precision_m: 0.9981 - f1_m: 0.9977 - val_loss: 0.0030 - val_accuracy: 0.9963 - val_recall_m: 0.9993 - val_precision_m: 0.9970 - val_f1_m: 0.9982\n",
      "Train on 10000 samples, validate on 10000 samples\n",
      "Epoch 1/10\n",
      "10000/10000 [==============================] - 18s 2ms/step - loss: 0.0857 - accuracy: 0.8750 - recall_m: 0.9239 - precision_m: 0.9511 - f1_m: 0.9304 - val_loss: 0.1807 - val_accuracy: 0.7856 - val_recall_m: 1.0000 - val_precision_m: 0.7856 - val_f1_m: 0.8611\n",
      "Epoch 2/10\n",
      "10000/10000 [==============================] - 17s 2ms/step - loss: 0.0215 - accuracy: 0.9731 - recall_m: 0.9872 - precision_m: 0.9859 - f1_m: 0.9863 - val_loss: 0.0130 - val_accuracy: 0.9842 - val_recall_m: 0.9978 - val_precision_m: 0.9864 - val_f1_m: 0.9920\n",
      "Epoch 3/10\n",
      "10000/10000 [==============================] - 17s 2ms/step - loss: 0.0130 - accuracy: 0.9842 - recall_m: 0.9917 - precision_m: 0.9925 - f1_m: 0.9920 - val_loss: 0.0064 - val_accuracy: 0.9928 - val_recall_m: 0.9981 - val_precision_m: 0.9947 - val_f1_m: 0.9964\n",
      "Epoch 4/10\n",
      "10000/10000 [==============================] - 17s 2ms/step - loss: 0.0089 - accuracy: 0.9893 - recall_m: 0.9945 - precision_m: 0.9949 - f1_m: 0.9946 - val_loss: 0.0134 - val_accuracy: 0.9824 - val_recall_m: 0.9835 - val_precision_m: 0.9989 - val_f1_m: 0.9910\n",
      "Epoch 5/10\n",
      "10000/10000 [==============================] - 17s 2ms/step - loss: 0.0062 - accuracy: 0.9929 - recall_m: 0.9967 - precision_m: 0.9961 - f1_m: 0.9964 - val_loss: 0.0265 - val_accuracy: 0.9667 - val_recall_m: 0.9677 - val_precision_m: 0.9990 - val_f1_m: 0.9827\n",
      "Epoch 6/10\n",
      "10000/10000 [==============================] - 17s 2ms/step - loss: 0.0059 - accuracy: 0.9931 - recall_m: 0.9963 - precision_m: 0.9967 - f1_m: 0.9965 - val_loss: 0.0055 - val_accuracy: 0.9929 - val_recall_m: 0.9964 - val_precision_m: 0.9964 - val_f1_m: 0.9964\n",
      "Epoch 7/10\n",
      "10000/10000 [==============================] - 17s 2ms/step - loss: 0.0047 - accuracy: 0.9939 - recall_m: 0.9967 - precision_m: 0.9971 - f1_m: 0.9969 - val_loss: 0.0067 - val_accuracy: 0.9919 - val_recall_m: 0.9993 - val_precision_m: 0.9926 - val_f1_m: 0.9959\n",
      "Epoch 8/10\n",
      "10000/10000 [==============================] - 17s 2ms/step - loss: 0.0040 - accuracy: 0.9951 - recall_m: 0.9969 - precision_m: 0.9981 - f1_m: 0.9975 - val_loss: 0.0037 - val_accuracy: 0.9954 - val_recall_m: 0.9985 - val_precision_m: 0.9968 - val_f1_m: 0.9977\n",
      "Epoch 9/10\n",
      "10000/10000 [==============================] - 17s 2ms/step - loss: 0.0031 - accuracy: 0.9965 - recall_m: 0.9979 - precision_m: 0.9986 - f1_m: 0.9983 - val_loss: 0.0045 - val_accuracy: 0.9947 - val_recall_m: 0.9988 - val_precision_m: 0.9958 - val_f1_m: 0.9973\n",
      "Epoch 10/10\n",
      "10000/10000 [==============================] - 17s 2ms/step - loss: 0.0039 - accuracy: 0.9955 - recall_m: 0.9978 - precision_m: 0.9976 - f1_m: 0.9977 - val_loss: 0.0053 - val_accuracy: 0.9935 - val_recall_m: 0.9956 - val_precision_m: 0.9978 - val_f1_m: 0.9967\n",
      "Train on 10000 samples, validate on 10000 samples\n",
      "Epoch 1/10\n",
      "10000/10000 [==============================] - 18s 2ms/step - loss: 0.0521 - accuracy: 0.9282 - recall_m: 0.9497 - precision_m: 0.9785 - f1_m: 0.9590 - val_loss: 0.0171 - val_accuracy: 0.9788 - val_recall_m: 0.9854 - val_precision_m: 0.9935 - val_f1_m: 0.9893\n",
      "Epoch 2/10\n",
      "10000/10000 [==============================] - 17s 2ms/step - loss: 0.0111 - accuracy: 0.9863 - recall_m: 0.9926 - precision_m: 0.9937 - f1_m: 0.9931 - val_loss: 0.0112 - val_accuracy: 0.9857 - val_recall_m: 0.9904 - val_precision_m: 0.9953 - val_f1_m: 0.9927\n",
      "Epoch 3/10\n",
      "10000/10000 [==============================] - 17s 2ms/step - loss: 0.0065 - accuracy: 0.9927 - recall_m: 0.9966 - precision_m: 0.9960 - f1_m: 0.9963 - val_loss: 0.0118 - val_accuracy: 0.9861 - val_recall_m: 0.9894 - val_precision_m: 0.9966 - val_f1_m: 0.9929\n",
      "Epoch 4/10\n",
      "10000/10000 [==============================] - 17s 2ms/step - loss: 0.0054 - accuracy: 0.9937 - recall_m: 0.9967 - precision_m: 0.9969 - f1_m: 0.9968 - val_loss: 0.0184 - val_accuracy: 0.9787 - val_recall_m: 0.9821 - val_precision_m: 0.9966 - val_f1_m: 0.9892\n",
      "Epoch 5/10\n",
      "10000/10000 [==============================] - 18s 2ms/step - loss: 0.0038 - accuracy: 0.9955 - recall_m: 0.9978 - precision_m: 0.9976 - f1_m: 0.9977 - val_loss: 0.0177 - val_accuracy: 0.9791 - val_recall_m: 0.9807 - val_precision_m: 0.9984 - val_f1_m: 0.9893\n",
      "Epoch 6/10\n",
      "10000/10000 [==============================] - 18s 2ms/step - loss: 0.0037 - accuracy: 0.9954 - recall_m: 0.9981 - precision_m: 0.9972 - f1_m: 0.9977 - val_loss: 0.0100 - val_accuracy: 0.9886 - val_recall_m: 0.9931 - val_precision_m: 0.9955 - val_f1_m: 0.9943\n",
      "Epoch 7/10\n",
      "10000/10000 [==============================] - 18s 2ms/step - loss: 0.0028 - accuracy: 0.9968 - recall_m: 0.9985 - precision_m: 0.9983 - f1_m: 0.9984 - val_loss: 0.0107 - val_accuracy: 0.9866 - val_recall_m: 0.9898 - val_precision_m: 0.9967 - val_f1_m: 0.9932\n",
      "Epoch 8/10\n",
      "10000/10000 [==============================] - 17s 2ms/step - loss: 0.0021 - accuracy: 0.9975 - recall_m: 0.9989 - precision_m: 0.9986 - f1_m: 0.9988 - val_loss: 0.0095 - val_accuracy: 0.9889 - val_recall_m: 0.9941 - val_precision_m: 0.9949 - val_f1_m: 0.9944\n",
      "Epoch 9/10\n",
      "10000/10000 [==============================] - 18s 2ms/step - loss: 0.0020 - accuracy: 0.9978 - recall_m: 0.9992 - precision_m: 0.9986 - f1_m: 0.9989 - val_loss: 0.0066 - val_accuracy: 0.9926 - val_recall_m: 0.9965 - val_precision_m: 0.9960 - val_f1_m: 0.9963\n",
      "Epoch 10/10\n",
      "10000/10000 [==============================] - 18s 2ms/step - loss: 0.0021 - accuracy: 0.9978 - recall_m: 0.9991 - precision_m: 0.9987 - f1_m: 0.9989 - val_loss: 0.0075 - val_accuracy: 0.9919 - val_recall_m: 0.9958 - val_precision_m: 0.9960 - val_f1_m: 0.9959\n",
      "Train on 10000 samples, validate on 10000 samples\n",
      "Epoch 1/10\n",
      "10000/10000 [==============================] - 22s 2ms/step - loss: 0.0717 - accuracy: 0.9018 - recall_m: 0.9342 - precision_m: 0.9676 - f1_m: 0.9449 - val_loss: 0.2311 - val_accuracy: 0.7106 - val_recall_m: 0.7115 - val_precision_m: 0.9991 - val_f1_m: 0.7956\n",
      "Epoch 2/10\n",
      "10000/10000 [==============================] - 20s 2ms/step - loss: 0.0200 - accuracy: 0.9754 - recall_m: 0.9849 - precision_m: 0.9905 - f1_m: 0.9874 - val_loss: 0.0202 - val_accuracy: 0.9745 - val_recall_m: 0.9785 - val_precision_m: 0.9959 - val_f1_m: 0.9869\n",
      "Epoch 3/10\n",
      "10000/10000 [==============================] - 21s 2ms/step - loss: 0.0120 - accuracy: 0.9858 - recall_m: 0.9914 - precision_m: 0.9944 - f1_m: 0.9928 - val_loss: 0.0100 - val_accuracy: 0.9869 - val_recall_m: 0.9937 - val_precision_m: 0.9933 - val_f1_m: 0.9934\n",
      "Epoch 4/10\n",
      "10000/10000 [==============================] - 20s 2ms/step - loss: 0.0077 - accuracy: 0.9906 - recall_m: 0.9950 - precision_m: 0.9956 - f1_m: 0.9953 - val_loss: 0.0119 - val_accuracy: 0.9840 - val_recall_m: 0.9886 - val_precision_m: 0.9954 - val_f1_m: 0.9919\n",
      "Epoch 5/10\n",
      "10000/10000 [==============================] - 19s 2ms/step - loss: 0.0067 - accuracy: 0.9916 - recall_m: 0.9950 - precision_m: 0.9966 - f1_m: 0.9958 - val_loss: 0.0109 - val_accuracy: 0.9858 - val_recall_m: 0.9880 - val_precision_m: 0.9977 - val_f1_m: 0.9928\n",
      "Epoch 6/10\n",
      "10000/10000 [==============================] - 20s 2ms/step - loss: 0.0058 - accuracy: 0.9936 - recall_m: 0.9965 - precision_m: 0.9970 - f1_m: 0.9968 - val_loss: 0.0100 - val_accuracy: 0.9872 - val_recall_m: 0.9893 - val_precision_m: 0.9979 - val_f1_m: 0.9935\n",
      "Epoch 7/10\n",
      "10000/10000 [==============================] - 20s 2ms/step - loss: 0.0047 - accuracy: 0.9940 - recall_m: 0.9968 - precision_m: 0.9971 - f1_m: 0.9970 - val_loss: 0.0090 - val_accuracy: 0.9893 - val_recall_m: 0.9939 - val_precision_m: 0.9955 - val_f1_m: 0.9946\n",
      "Epoch 8/10\n",
      "10000/10000 [==============================] - 19s 2ms/step - loss: 0.0037 - accuracy: 0.9957 - recall_m: 0.9978 - precision_m: 0.9979 - f1_m: 0.9979 - val_loss: 0.0085 - val_accuracy: 0.9901 - val_recall_m: 0.9940 - val_precision_m: 0.9961 - val_f1_m: 0.9950\n",
      "Epoch 9/10\n",
      "10000/10000 [==============================] - 19s 2ms/step - loss: 0.0030 - accuracy: 0.9963 - recall_m: 0.9980 - precision_m: 0.9983 - f1_m: 0.9982 - val_loss: 0.0117 - val_accuracy: 0.9863 - val_recall_m: 0.9912 - val_precision_m: 0.9951 - val_f1_m: 0.9930\n",
      "Epoch 10/10\n",
      "10000/10000 [==============================] - 18s 2ms/step - loss: 0.0028 - accuracy: 0.9968 - recall_m: 0.9986 - precision_m: 0.9982 - f1_m: 0.9984 - val_loss: 0.0200 - val_accuracy: 0.9775 - val_recall_m: 0.9794 - val_precision_m: 0.9980 - val_f1_m: 0.9885\n",
      "Train on 10000 samples, validate on 10000 samples\n",
      "Epoch 1/10\n",
      "10000/10000 [==============================] - 20s 2ms/step - loss: 0.0985 - accuracy: 0.8614 - recall_m: 0.9290 - precision_m: 0.9324 - f1_m: 0.9203 - val_loss: 0.0386 - val_accuracy: 0.9529 - val_recall_m: 0.9594 - val_precision_m: 0.9936 - val_f1_m: 0.9755\n",
      "Epoch 2/10\n",
      "10000/10000 [==============================] - 18s 2ms/step - loss: 0.0252 - accuracy: 0.9677 - recall_m: 0.9832 - precision_m: 0.9845 - f1_m: 0.9836 - val_loss: 0.0292 - val_accuracy: 0.9632 - val_recall_m: 0.9978 - val_precision_m: 0.9654 - val_f1_m: 0.9809\n",
      "Epoch 3/10\n",
      "10000/10000 [==============================] - 20s 2ms/step - loss: 0.0152 - accuracy: 0.9804 - recall_m: 0.9898 - precision_m: 0.9906 - f1_m: 0.9900 - val_loss: 0.0765 - val_accuracy: 0.9035 - val_recall_m: 0.9069 - val_precision_m: 0.9965 - val_f1_m: 0.9467\n",
      "Epoch 4/10\n",
      "10000/10000 [==============================] - 20s 2ms/step - loss: 0.0125 - accuracy: 0.9845 - recall_m: 0.9905 - precision_m: 0.9940 - f1_m: 0.9921 - val_loss: 0.0150 - val_accuracy: 0.9807 - val_recall_m: 0.9970 - val_precision_m: 0.9837 - val_f1_m: 0.9902\n",
      "Epoch 5/10\n",
      "10000/10000 [==============================] - 20s 2ms/step - loss: 0.0092 - accuracy: 0.9879 - recall_m: 0.9931 - precision_m: 0.9949 - f1_m: 0.9939 - val_loss: 0.0106 - val_accuracy: 0.9859 - val_recall_m: 0.9913 - val_precision_m: 0.9946 - val_f1_m: 0.9929\n",
      "Epoch 6/10\n",
      "10000/10000 [==============================] - 20s 2ms/step - loss: 0.0065 - accuracy: 0.9909 - recall_m: 0.9948 - precision_m: 0.9961 - f1_m: 0.9954 - val_loss: 0.0177 - val_accuracy: 0.9785 - val_recall_m: 0.9971 - val_precision_m: 0.9814 - val_f1_m: 0.9890\n",
      "Epoch 7/10\n",
      "10000/10000 [==============================] - 20s 2ms/step - loss: 0.0062 - accuracy: 0.9924 - recall_m: 0.9947 - precision_m: 0.9977 - f1_m: 0.9961 - val_loss: 0.0153 - val_accuracy: 0.9810 - val_recall_m: 0.9873 - val_precision_m: 0.9937 - val_f1_m: 0.9904\n",
      "Epoch 8/10\n",
      "10000/10000 [==============================] - 20s 2ms/step - loss: 0.0044 - accuracy: 0.9945 - recall_m: 0.9974 - precision_m: 0.9970 - f1_m: 0.9972 - val_loss: 0.0133 - val_accuracy: 0.9843 - val_recall_m: 0.9891 - val_precision_m: 0.9952 - val_f1_m: 0.9920\n",
      "Epoch 9/10\n",
      "10000/10000 [==============================] - 20s 2ms/step - loss: 0.0044 - accuracy: 0.9942 - recall_m: 0.9970 - precision_m: 0.9971 - f1_m: 0.9971 - val_loss: 0.0183 - val_accuracy: 0.9776 - val_recall_m: 0.9852 - val_precision_m: 0.9924 - val_f1_m: 0.9886\n",
      "Epoch 10/10\n",
      "10000/10000 [==============================] - 20s 2ms/step - loss: 0.0038 - accuracy: 0.9953 - recall_m: 0.9973 - precision_m: 0.9979 - f1_m: 0.9976 - val_loss: 0.0099 - val_accuracy: 0.9878 - val_recall_m: 0.9952 - val_precision_m: 0.9927 - val_f1_m: 0.9939\n",
      "Train on 10000 samples, validate on 10000 samples\n",
      "Epoch 1/10\n",
      "10000/10000 [==============================] - 20s 2ms/step - loss: 0.0911 - accuracy: 0.8703 - recall_m: 0.9256 - precision_m: 0.9446 - f1_m: 0.9285 - val_loss: 0.0758 - val_accuracy: 0.8967 - val_recall_m: 0.9074 - val_precision_m: 0.9892 - val_f1_m: 0.9433\n",
      "Epoch 2/10\n",
      "10000/10000 [==============================] - 20s 2ms/step - loss: 0.0263 - accuracy: 0.9674 - recall_m: 0.9834 - precision_m: 0.9840 - f1_m: 0.9835 - val_loss: 0.0179 - val_accuracy: 0.9779 - val_recall_m: 0.9883 - val_precision_m: 0.9896 - val_f1_m: 0.9888\n",
      "Epoch 3/10\n",
      "10000/10000 [==============================] - 19s 2ms/step - loss: 0.0156 - accuracy: 0.9801 - recall_m: 0.9894 - precision_m: 0.9907 - f1_m: 0.9900 - val_loss: 0.0173 - val_accuracy: 0.9790 - val_recall_m: 0.9851 - val_precision_m: 0.9940 - val_f1_m: 0.9893\n",
      "Epoch 4/10\n",
      "10000/10000 [==============================] - 20s 2ms/step - loss: 0.0100 - accuracy: 0.9867 - recall_m: 0.9931 - precision_m: 0.9937 - f1_m: 0.9933 - val_loss: 0.0154 - val_accuracy: 0.9790 - val_recall_m: 0.9875 - val_precision_m: 0.9915 - val_f1_m: 0.9893\n",
      "Epoch 5/10\n",
      "10000/10000 [==============================] - 20s 2ms/step - loss: 0.0074 - accuracy: 0.9914 - recall_m: 0.9952 - precision_m: 0.9962 - f1_m: 0.9957 - val_loss: 0.0145 - val_accuracy: 0.9815 - val_recall_m: 0.9858 - val_precision_m: 0.9957 - val_f1_m: 0.9906\n",
      "Epoch 6/10\n",
      "10000/10000 [==============================] - 19s 2ms/step - loss: 0.0059 - accuracy: 0.9928 - recall_m: 0.9963 - precision_m: 0.9964 - f1_m: 0.9964 - val_loss: 0.0149 - val_accuracy: 0.9818 - val_recall_m: 0.9956 - val_precision_m: 0.9862 - val_f1_m: 0.9907\n",
      "Epoch 7/10\n",
      "10000/10000 [==============================] - 20s 2ms/step - loss: 0.0053 - accuracy: 0.9938 - recall_m: 0.9971 - precision_m: 0.9966 - f1_m: 0.9969 - val_loss: 0.0141 - val_accuracy: 0.9820 - val_recall_m: 0.9874 - val_precision_m: 0.9946 - val_f1_m: 0.9909\n",
      "Epoch 8/10\n",
      "10000/10000 [==============================] - 20s 2ms/step - loss: 0.0039 - accuracy: 0.9954 - recall_m: 0.9972 - precision_m: 0.9981 - f1_m: 0.9977 - val_loss: 0.0127 - val_accuracy: 0.9843 - val_recall_m: 0.9896 - val_precision_m: 0.9947 - val_f1_m: 0.9920\n",
      "Epoch 9/10\n",
      "10000/10000 [==============================] - 20s 2ms/step - loss: 0.0028 - accuracy: 0.9969 - recall_m: 0.9983 - precision_m: 0.9986 - f1_m: 0.9985 - val_loss: 0.0155 - val_accuracy: 0.9813 - val_recall_m: 0.9860 - val_precision_m: 0.9954 - val_f1_m: 0.9905\n",
      "Epoch 10/10\n",
      "10000/10000 [==============================] - 20s 2ms/step - loss: 0.0034 - accuracy: 0.9956 - recall_m: 0.9969 - precision_m: 0.9987 - f1_m: 0.9978 - val_loss: 0.0128 - val_accuracy: 0.9827 - val_recall_m: 0.9857 - val_precision_m: 0.9970 - val_f1_m: 0.9912\n"
     ]
    }
   ],
   "source": [
    "pretrained_c2c_models = {class_1: C2C_SN(class_1, class_1) for class_1 in classes_to_train}"
   ]
  },
  {
   "cell_type": "code",
   "execution_count": 144,
   "metadata": {
    "Collapsed": "false"
   },
   "outputs": [],
   "source": [
    "attributes = pd.read_csv(\"mnist_attributes.csv\")"
   ]
  },
  {
   "cell_type": "code",
   "execution_count": 145,
   "metadata": {
    "Collapsed": "false"
   },
   "outputs": [],
   "source": [
    "digit_to_attribute_mapping = {digit : attributes[attributes.Digit == digit].values[0][1:] for digit in [0,1,2,3,4,5,6,7,8,9]}"
   ]
  },
  {
   "cell_type": "code",
   "execution_count": 146,
   "metadata": {
    "Collapsed": "false"
   },
   "outputs": [],
   "source": [
    "len_attributes = len(attributes.columns) - 1"
   ]
  },
  {
   "cell_type": "markdown",
   "metadata": {
    "Collapsed": "false"
   },
   "source": [
    "# Zero Shot Learning"
   ]
  },
  {
   "cell_type": "code",
   "execution_count": 154,
   "metadata": {
    "Collapsed": "false"
   },
   "outputs": [],
   "source": [
    "def generate_example_pairs(data, indices, class_1, class_2):\n",
    "    class_1_indices = indices[class_1]\n",
    "    class_2_indices = indices[class_2]\n",
    "\n",
    "    image_0 = data[np.random.choice(class_1_indices)]\n",
    "    image_1 = data[np.random.choice(class_2_indices)]\n",
    "    # return [image_0, image_1]\n",
    "    return [image_0.reshape(28,28,1), image_1.reshape(28,28,1)]\n",
    "\n",
    "\n",
    "def generate_examples(data, indices, labels):\n",
    "    same_classes = [generate_example_pairs(data, indices, label, label) for label in labels]\n",
    "    attributes = [digit_to_attribute_mapping[label] for label in labels]\n",
    "    return np.array(same_classes), np.array(attributes)"
   ]
  },
  {
   "cell_type": "code",
   "execution_count": 38,
   "metadata": {
    "Collapsed": "false"
   },
   "outputs": [],
   "source": [
    "def create_intermediate_model(model, input_shape):\n",
    "    input_a = Input(shape=input_shape)\n",
    "    input_b = Input(shape=input_shape) \n",
    "\n",
    "    tmp0 = Sequential()\n",
    "    tmp0.add(model.layers[2])\n",
    "    tmp0.trainable = False\n",
    "\n",
    "    tmp1 = Sequential()\n",
    "    tmp1.add(model.layers[2])\n",
    "    tmp1.trainable = False\n",
    "\n",
    "    processed_a = tmp0(input_a)\n",
    "    processed_b = tmp1(input_b)\n",
    "\n",
    "    out = Add()([processed_a, processed_b])\n",
    "    return Model([input_a, input_b], out)"
   ]
  },
  {
   "cell_type": "code",
   "execution_count": 39,
   "metadata": {
    "Collapsed": "false"
   },
   "outputs": [],
   "source": [
    "intermediate_models = {label: create_intermediate_model(model, input_shape) for label, model in pretrained_c2c_models.items()}"
   ]
  },
  {
   "cell_type": "code",
   "execution_count": 152,
   "metadata": {
    "Collapsed": "false"
   },
   "outputs": [],
   "source": [
    "labels = np.random.choice(classes_to_train, size = 20000)"
   ]
  },
  {
   "cell_type": "code",
   "execution_count": 155,
   "metadata": {
    "Collapsed": "false"
   },
   "outputs": [],
   "source": [
    "digit_indices = {i:np.where(y_train == i)[0] for i in classes_to_train}\n",
    "pairs, attributes = generate_examples(x_train, digit_indices, labels)"
   ]
  },
  {
   "cell_type": "code",
   "execution_count": 156,
   "metadata": {
    "Collapsed": "false"
   },
   "outputs": [],
   "source": [
    "zsl_training_classes = [0,1,2,3,4,5]\n",
    "zsl_testing_classes = [6,7,8,9]\n",
    "intermediate_representations_train, intermediate_representations_test = [],[]\n",
    "attributes_train, attributes_test = [],[]\n",
    "labels_train, labels_test = [],[]\n",
    "\n",
    "for image_pairs, attribute, label in zip(pairs, attributes, labels):\n",
    "    if label in zsl_training_classes:\n",
    "        intermediate_representations_train.append(intermediate_models[label].predict([image_pairs[0].reshape(1,28,28,1), image_pairs[1].reshape(1,28,28,1)]))\n",
    "        labels_train.append(label)\n",
    "        attributes_train.append(attribute)\n",
    "    elif label in zsl_testing_classes:\n",
    "        intermediate_representations_test.append(intermediate_models[label].predict([image_pairs[0].reshape(1,28,28,1), image_pairs[1].reshape(1,28,28,1)]))\n",
    "        labels_test.append(label)\n",
    "        attributes_test.append(attribute)\n",
    "        \n",
    "train_validation_split = 0.8\n",
    "intermediate_representations_train = np.array(intermediate_representations_train)\n",
    "n_validation_examples = int(train_validation_split * len(intermediate_representations_train))\n",
    "\n",
    "intermediate_representations_validation = intermediate_representations_train[:n_validation_examples]\n",
    "intermediate_representations_train = intermediate_representations_train[n_validation_examples:]\n",
    "intermediate_representations_test = np.array(intermediate_representations_test)\n",
    "\n",
    "attributes_train = np.array(attributes_train)\n",
    "attributes_validation = attributes_train[:n_validation_examples]\n",
    "attributes_train = attributes_train[n_validation_examples:]\n",
    "attributes_test = np.array(attributes_test)\n",
    "\n",
    "labels_train = np.array(labels_train)\n",
    "labels_validation = labels_train[:n_validation_examples]\n",
    "labels_train = labels_train[n_validation_examples:]\n",
    "labels_test = np.array(labels_test)"
   ]
  },
  {
   "cell_type": "code",
   "execution_count": 157,
   "metadata": {
    "Collapsed": "false"
   },
   "outputs": [
    {
     "name": "stdout",
     "output_type": "stream",
     "text": [
      "Train on 2415 samples, validate on 9656 samples\n",
      "Epoch 1/10\n",
      "2415/2415 [==============================] - 1s 410us/step - loss: 0.1505 - val_loss: 0.1011\n",
      "Epoch 2/10\n",
      "2415/2415 [==============================] - 0s 34us/step - loss: 0.0803 - val_loss: 0.0612\n",
      "Epoch 3/10\n",
      "2415/2415 [==============================] - 0s 32us/step - loss: 0.0506 - val_loss: 0.0402\n",
      "Epoch 4/10\n",
      "2415/2415 [==============================] - 0s 33us/step - loss: 0.0335 - val_loss: 0.0270\n",
      "Epoch 5/10\n",
      "2415/2415 [==============================] - 0s 33us/step - loss: 0.0226 - val_loss: 0.0182\n",
      "Epoch 6/10\n",
      "2415/2415 [==============================] - 0s 33us/step - loss: 0.0152 - val_loss: 0.0121\n",
      "Epoch 7/10\n",
      "2415/2415 [==============================] - 0s 32us/step - loss: 0.0101 - val_loss: 0.0081\n",
      "Epoch 8/10\n",
      "2415/2415 [==============================] - 0s 32us/step - loss: 0.0068 - val_loss: 0.0054\n",
      "Epoch 9/10\n",
      "2415/2415 [==============================] - 0s 33us/step - loss: 0.0045 - val_loss: 0.0037\n",
      "Epoch 10/10\n",
      "2415/2415 [==============================] - 0s 34us/step - loss: 0.0031 - val_loss: 0.0025\n"
     ]
    },
    {
     "data": {
      "text/plain": [
       "<keras.callbacks.callbacks.History at 0x7f13d6fa38d0>"
      ]
     },
     "execution_count": 157,
     "metadata": {},
     "output_type": "execute_result"
    }
   ],
   "source": [
    "input_a = Input(shape = (1, 128))\n",
    "\n",
    "out=Dense(7, activation='sigmoid')(input_a)\n",
    "model = Model(input_a, out)\n",
    "\n",
    "rms = RMSprop()\n",
    "model.compile(loss = 'mean_squared_error', optimizer=rms)\n",
    "model.fit(intermediate_representations_train, attributes_train.reshape(-1, 1,len_attributes),\n",
    "              batch_size=128,\n",
    "              epochs=10,\n",
    "              validation_data=(intermediate_representations_validation, attributes_validation.reshape(-1, 1, len_attributes)))"
   ]
  },
  {
   "cell_type": "markdown",
   "metadata": {
    "Collapsed": "false"
   },
   "source": [
    "# Testing"
   ]
  },
  {
   "cell_type": "code",
   "execution_count": 158,
   "metadata": {
    "Collapsed": "false"
   },
   "outputs": [],
   "source": [
    "def euclidean(a, b):\n",
    "    return np.sqrt(np.sum((a-b)**2))"
   ]
  },
  {
   "cell_type": "code",
   "execution_count": 159,
   "metadata": {
    "Collapsed": "false"
   },
   "outputs": [],
   "source": [
    "top_1 = 0\n",
    "top_2 = 0\n",
    "\n",
    "for representation, true_label in zip(intermediate_representations_test, labels_test):\n",
    "    predicted_attribute = model.predict(representation.reshape(1,1,128))\n",
    "    distances_from_attributes = {class_label: euclidean(predicted_attribute,digit_to_attribute_mapping[class_label]) for class_label in zsl_testing_classes}\n",
    "    sorted_distances = sorted(distances_from_attributes.items(), key = lambda el: el[1])\n",
    "    prediction = sorted_distances[0][0]\n",
    "    if prediction == true_label:\n",
    "        top_1 += 1\n",
    "        top_2 += 1\n",
    "    else:\n",
    "        second_best = sorted_distances[1][0]\n",
    "        if second_best == true_label:\n",
    "            top_2 += 1 "
   ]
  },
  {
   "cell_type": "code",
   "execution_count": 160,
   "metadata": {
    "Collapsed": "false"
   },
   "outputs": [
    {
     "data": {
      "text/plain": [
       "0.2445453398915374"
      ]
     },
     "execution_count": 160,
     "metadata": {},
     "output_type": "execute_result"
    }
   ],
   "source": [
    "top_1/len(intermediate_representations_test)"
   ]
  },
  {
   "cell_type": "code",
   "execution_count": 161,
   "metadata": {
    "Collapsed": "false"
   },
   "outputs": [
    {
     "data": {
      "text/plain": [
       "0.4942615714465885"
      ]
     },
     "execution_count": 161,
     "metadata": {},
     "output_type": "execute_result"
    }
   ],
   "source": [
    "top_2/len(intermediate_representations_test)"
   ]
  },
  {
   "cell_type": "markdown",
   "metadata": {
    "Collapsed": "false"
   },
   "source": [
    "# Testing on validation set"
   ]
  },
  {
   "cell_type": "code",
   "execution_count": 162,
   "metadata": {
    "Collapsed": "false"
   },
   "outputs": [],
   "source": [
    "top_1 = 0\n",
    "top_2 = 0\n",
    "\n",
    "for representation, true_label in zip(intermediate_representations_validation, labels_validation):\n",
    "    predicted_attribute = model.predict(representation.reshape(1,1,128))\n",
    "    distances_from_attributes = {class_label: euclidean(predicted_attribute,digit_to_attribute_mapping[class_label]) for class_label in zsl_training_classes}\n",
    "    sorted_distances = sorted(distances_from_attributes.items(), key = lambda el: el[1])\n",
    "    prediction = sorted_distances[0][0]\n",
    "    if prediction == true_label:\n",
    "        top_1 += 1\n",
    "        top_2 += 1\n",
    "    else:\n",
    "        second_best = sorted_distances[1][0]\n",
    "        if second_best == true_label:\n",
    "            top_2 += 1 "
   ]
  },
  {
   "cell_type": "code",
   "execution_count": 163,
   "metadata": {
    "Collapsed": "false"
   },
   "outputs": [
    {
     "data": {
      "text/plain": [
       "1.0"
      ]
     },
     "execution_count": 163,
     "metadata": {},
     "output_type": "execute_result"
    }
   ],
   "source": [
    "top_1/len(intermediate_representations_validation)"
   ]
  },
  {
   "cell_type": "code",
   "execution_count": 164,
   "metadata": {
    "Collapsed": "false"
   },
   "outputs": [
    {
     "data": {
      "text/plain": [
       "1.0"
      ]
     },
     "execution_count": 164,
     "metadata": {},
     "output_type": "execute_result"
    }
   ],
   "source": [
    "top_2/len(intermediate_representations_validation)"
   ]
  },
  {
   "cell_type": "code",
   "execution_count": null,
   "metadata": {
    "Collapsed": "false"
   },
   "outputs": [],
   "source": []
  }
 ],
 "metadata": {
  "kernelspec": {
   "display_name": "Python 3",
   "language": "python",
   "name": "python3"
  },
  "language_info": {
   "codemirror_mode": {
    "name": "ipython",
    "version": 3
   },
   "file_extension": ".py",
   "mimetype": "text/x-python",
   "name": "python",
   "nbconvert_exporter": "python",
   "pygments_lexer": "ipython3",
   "version": "3.7.5"
  }
 },
 "nbformat": 4,
 "nbformat_minor": 4
}
