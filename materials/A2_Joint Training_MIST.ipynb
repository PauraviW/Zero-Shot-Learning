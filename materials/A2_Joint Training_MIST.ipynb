{
 "cells": [
  {
   "cell_type": "markdown",
   "metadata": {},
   "source": [
    "### A.2 Joint Training of Image and Semantic Embedding"
   ]
  },
  {
   "cell_type": "code",
   "execution_count": 1,
   "metadata": {},
   "outputs": [],
   "source": [
    "import numpy as np\n",
    "import torch\n",
    "import torchvision\n",
    "import matplotlib.pyplot as plt\n",
    "import torch.nn as nn\n",
    "import torch.nn.functional as F\n",
    "import torch.optim\n",
    "import pandas as pd\n",
    "from torch.utils.data import Dataset\n",
    "import random\n",
    "from torchvision import datasets, transforms\n",
    "from torch.utils.data import DataLoader\n",
    "from torch import optim\n",
    "import sys"
   ]
  },
  {
   "cell_type": "code",
   "execution_count": 2,
   "metadata": {},
   "outputs": [],
   "source": [
    "device = torch.device(\"cuda:0\" if torch.cuda.is_available() else \"cpu\")"
   ]
  },
  {
   "cell_type": "markdown",
   "metadata": {},
   "source": [
    "#### Download dataset from scratch"
   ]
  },
  {
   "cell_type": "code",
   "execution_count": 3,
   "metadata": {},
   "outputs": [],
   "source": [
    "# transform = transforms.Compose(\n",
    "#     [\n",
    "#         transforms.ToPILImage(),\n",
    "#         transforms.ToTensor(),\n",
    "#         transforms.Normalize(mean=(0.5,), std=(0.5,)),\n",
    "#     ]\n",
    "# )\n",
    "# trainset = datasets.MNIST(\"data/\", download=False, train=True, transform=transform)\n",
    "# valset = datasets.MNIST(\"data/\", download=False, train=False, transform=transform)\n",
    "# trainloader = torch.utils.data.DataLoader(trainset, batch_size=64, shuffle=True)\n",
    "# valloader = torch.utils.data.DataLoader(valset, batch_size=64, shuffle=True)"
   ]
  },
  {
   "cell_type": "markdown",
   "metadata": {},
   "source": [
    "#### Creating the required network"
   ]
  },
  {
   "cell_type": "code",
   "execution_count": 18,
   "metadata": {},
   "outputs": [],
   "source": [
    "class CNN(nn.Module):\n",
    "    def __init__(self, alpha, output_dim, batch_size):\n",
    "        super().__init__()\n",
    "        self.batch_size = batch_size\n",
    "        self.conv1 = nn.Conv2d(in_channels=1, out_channels=16, kernel_size=5)\n",
    "        self.conv2 = nn.Conv2d(in_channels=16, out_channels=32, kernel_size=5)\n",
    "        self.lin = nn.Linear(20 * 20 * 32, output_dim)\n",
    "        self.encoder_hidden_layer = nn.Linear(7, 5)\n",
    "        self.encoder_hidden_layer_2 = nn.Linear(5, 5)\n",
    "\n",
    "    def forward_cnn(self, x):\n",
    "        x = F.relu(self.conv1(x))\n",
    "        x = F.relu(self.conv2(x))\n",
    "        x = self.lin(x.view(-1, 20 * 20 * 32))\n",
    "        return x\n",
    "\n",
    "    def forward_sem(self, x):\n",
    "        x = torch.relu(self.encoder_hidden_layer(x))\n",
    "        x = torch.relu(self.encoder_hidden_layer_2(x))\n",
    "        return x\n",
    "\n",
    "    def forward(self, input1, input2):\n",
    "        output1 = self.forward_cnn(input1)\n",
    "        output2 = self.forward_sem(input2)\n",
    "        return output1, output2\n",
    "\n",
    "    def save(self, path):\n",
    "        T.save(self.state_dict(), path)\n",
    "\n",
    "    def load(self, path):\n",
    "        self.load_state_dict(T.load(path))"
   ]
  },
  {
   "cell_type": "code",
   "execution_count": 5,
   "metadata": {},
   "outputs": [],
   "source": [
    "class ContrastiveLoss(torch.nn.Module):\n",
    "    \"\"\"\n",
    "    Contrastive loss function.\n",
    "    Based on: http://yann.lecun.com/exdb/publis/pdf/hadsell-chopra-lecun-06.pdf\n",
    "    \"\"\"\n",
    "\n",
    "    def __init__(self, margin=2.0):\n",
    "        super(ContrastiveLoss, self).__init__()\n",
    "        self.margin = margin\n",
    "\n",
    "    def forward(self, output1, output2, label):\n",
    "        euclidean_distance = F.pairwise_distance(output1, output2, keepdim=True)\n",
    "        loss_contrastive = torch.mean(\n",
    "            (1 - label) * torch.pow(euclidean_distance, 2)\n",
    "            + (label)\n",
    "            * torch.pow(torch.clamp(self.margin - euclidean_distance, min=0.0), 2)\n",
    "        )\n",
    "        return loss_contrastive"
   ]
  },
  {
   "cell_type": "markdown",
   "metadata": {},
   "source": [
    "#### Creating Training Dataset"
   ]
  },
  {
   "cell_type": "code",
   "execution_count": 6,
   "metadata": {},
   "outputs": [],
   "source": [
    "class SiameseNetworkDataset(Dataset):\n",
    "    def __init__(self, data, transform, classes_subset, shuffle=True):\n",
    "        self.data = (\n",
    "            data[data.label.isin(classes_subset)].sample(frac=1).reset_index(drop=True)\n",
    "            if shuffle\n",
    "            else data\n",
    "        )\n",
    "        self.transform = transform\n",
    "        self.attributes = pd.read_csv(\"mnist_attributes.csv\")\n",
    "\n",
    "    def __getitem__(self, index):\n",
    "        item = self.data.iloc[index]\n",
    "        pixels = np.array(item[1:]).astype(np.uint8).reshape((28, 28))\n",
    "        # we need to make sure approx 50% of images are in the same class\n",
    "        label = -1\n",
    "        should_get_same_class = random.randint(0, 1)\n",
    "        attributes = None\n",
    "        if should_get_same_class:\n",
    "            label = 0\n",
    "            # keep looping till the same class image is found\n",
    "            attributes = (\n",
    "                self.attributes[self.attributes.Digit == int(item[0])]\n",
    "                .iloc[:, 1:]\n",
    "                .values\n",
    "            )\n",
    "        else:\n",
    "            label = 1\n",
    "            while True:\n",
    "                random_item = np.random.randint(low=1, high=10, size=1)\n",
    "                if random_item != item[0]:\n",
    "                    break\n",
    "            attributes = (\n",
    "                self.attributes[self.attributes.Digit == int(random_item)]\n",
    "                .iloc[:, 1:]\n",
    "                .values\n",
    "            )\n",
    "\n",
    "        if self.transform is not None:\n",
    "            pixels = self.transform(pixels)\n",
    "\n",
    "        return pixels, attributes, label\n",
    "\n",
    "    def __len__(self):\n",
    "        return len(self.data)"
   ]
  },
  {
   "cell_type": "code",
   "execution_count": 7,
   "metadata": {},
   "outputs": [],
   "source": [
    "train = pd.read_csv(\"data/train.csv\")\n",
    "transformation = transforms.Compose(\n",
    "    [\n",
    "        transforms.ToPILImage(),\n",
    "        transforms.ToTensor(),\n",
    "        transforms.Normalize(mean=(0.5,), std=(0.5,)),\n",
    "    ]\n",
    ")\n",
    "train_split = 0.7\n",
    "n_rows = len(train)\n",
    "len_training = int(n_rows * train_split)\n",
    "train_indexes = np.random.choice(len(train), size=len_training, replace=False)\n",
    "train_dataset = SiameseNetworkDataset(\n",
    "    train.iloc[train_indexes],\n",
    "    transform=transformation,\n",
    "    classes_subset=[0, 1, 2, 3, 4, 5, 6],\n",
    ")\n",
    "# validation_dataset = SiameseNetworkDataset(\n",
    "#     train.iloc[~train_indexes], transform=transformation, classes_subset=[7, 9, 8]\n",
    "# )"
   ]
  },
  {
   "cell_type": "code",
   "execution_count": 8,
   "metadata": {},
   "outputs": [
    {
     "data": {
      "text/plain": [
       "(array([[1, 1, 1, 1, 1, 1, 0]], dtype=int64), 0)"
      ]
     },
     "execution_count": 8,
     "metadata": {},
     "output_type": "execute_result"
    },
    {
     "data": {
      "image/png": "[encoded data removed]",
      "text/plain": [
       "<Figure size 432x288 with 1 Axes>"
      ]
     },
     "metadata": {
      "needs_background": "light"
     },
     "output_type": "display_data"
    }
   ],
   "source": [
    "im = train_dataset[0]\n",
    "plt.imshow(im[0].reshape(28, 28))\n",
    "im[1], im[2]"
   ]
  },
  {
   "cell_type": "code",
   "execution_count": 9,
   "metadata": {},
   "outputs": [],
   "source": [
    "batch_size = 16\n",
    "n_iterations = 250\n",
    "n_epochs = 10\n",
    "learning_rate = 0.0001"
   ]
  },
  {
   "cell_type": "code",
   "execution_count": 20,
   "metadata": {},
   "outputs": [],
   "source": [
    "cnn = CNN(alpha=learning_rate, batch_size=batch_size, output_dim=5).to(device)\n",
    "criterion = ContrastiveLoss()\n",
    "optimizer = optim.Adam(cnn.parameters(), lr=0.0005)"
   ]
  },
  {
   "cell_type": "code",
   "execution_count": 21,
   "metadata": {},
   "outputs": [
    {
     "data": {
      "text/plain": [
       "CNN(\n",
       "  (conv1): Conv2d(1, 16, kernel_size=(5, 5), stride=(1, 1))\n",
       "  (conv2): Conv2d(16, 32, kernel_size=(5, 5), stride=(1, 1))\n",
       "  (lin): Linear(in_features=12800, out_features=5, bias=True)\n",
       "  (encoder_hidden_layer): Linear(in_features=7, out_features=5, bias=True)\n",
       "  (encoder_hidden_layer_2): Linear(in_features=5, out_features=5, bias=True)\n",
       ")"
      ]
     },
     "execution_count": 21,
     "metadata": {},
     "output_type": "execute_result"
    }
   ],
   "source": [
    "cnn"
   ]
  },
  {
   "cell_type": "code",
   "execution_count": 22,
   "metadata": {},
   "outputs": [
    {
     "name": "stderr",
     "output_type": "stream",
     "text": [
      "<ipython-input-22-c00cbb2884f0>:5: UserWarning: To copy construct from a tensor, it is recommended to use sourceTensor.clone().detach() or sourceTensor.clone().detach().requires_grad_(True), rather than torch.tensor(sourceTensor).\n",
      "  torch.tensor(pixels.reshape(1, 1, 28, 28)).to(device),\n"
     ]
    },
    {
     "name": "stdout",
     "output_type": "stream",
     "text": [
      "Epoch number 0\n",
      " Current loss 1.5724196434020996\n",
      "\n",
      "Epoch number 0\n",
      " Current loss 1.5754878520965576\n",
      "\n",
      "Epoch number 0\n",
      " Current loss 0.7049034833908081\n",
      "\n",
      "Epoch number 0\n",
      " Current loss 1.178051471710205\n",
      "\n",
      "Epoch number 0\n",
      " Current loss 1.080912709236145\n",
      "\n",
      "Epoch number 0\n",
      " Current loss 0.7763777375221252\n",
      "\n",
      "Epoch number 0\n",
      " Current loss 0.8219127655029297\n",
      "\n",
      "Epoch number 0\n",
      " Current loss 1.059652328491211\n",
      "\n",
      "Epoch number 0\n",
      " Current loss 0.6771239042282104\n",
      "\n",
      "Epoch number 0\n",
      " Current loss 0.676023542881012\n",
      "\n",
      "Epoch number 0\n",
      " Current loss 0.6118512749671936\n",
      "\n",
      "Epoch number 0\n",
      " Current loss 1.4768859148025513\n",
      "\n",
      "Epoch number 0\n",
      " Current loss 0.34465649724006653\n",
      "\n",
      "Epoch number 0\n",
      " Current loss 0.7316420078277588\n",
      "\n",
      "Epoch number 0\n",
      " Current loss 0.10235624760389328\n",
      "\n",
      "Epoch number 0\n",
      " Current loss 1.8211919069290161\n",
      "\n",
      "Epoch number 0\n",
      " Current loss 1.9178779125213623\n",
      "\n",
      "Epoch number 0\n",
      " Current loss 1.0427056550979614\n",
      "\n",
      "Epoch number 0\n",
      " Current loss 0.0\n",
      "\n",
      "Epoch number 0\n",
      " Current loss 0.0\n",
      "\n",
      "Epoch number 0\n",
      " Current loss 0.7766579389572144\n",
      "\n",
      "Epoch number 0\n",
      " Current loss 0.12823797762393951\n",
      "\n",
      "Epoch number 0\n",
      " Current loss 5.183145549381152e-05\n",
      "\n",
      "Epoch number 0\n",
      " Current loss 0.946251630783081\n",
      "\n",
      "Epoch number 0\n",
      " Current loss 0.034889429807662964\n",
      "\n",
      "Epoch number 0\n",
      " Current loss 0.0\n",
      "\n",
      "Epoch number 0\n",
      " Current loss 1.036361575126648\n",
      "\n",
      "Epoch number 0\n",
      " Current loss 0.18178127706050873\n",
      "\n",
      "Epoch number 0\n",
      " Current loss 0.0\n",
      "\n",
      "Epoch number 0\n",
      " Current loss 0.6905068755149841\n",
      "\n",
      "Epoch number 0\n",
      " Current loss 0.1463615894317627\n",
      "\n",
      "Epoch number 0\n",
      " Current loss 2.0538482666015625\n",
      "\n",
      "Epoch number 0\n",
      " Current loss 0.5943230986595154\n",
      "\n",
      "Epoch number 0\n",
      " Current loss 0.7914944887161255\n",
      "\n",
      "Epoch number 0\n",
      " Current loss 0.5341055989265442\n",
      "\n",
      "Epoch number 0\n",
      " Current loss 0.10902110487222672\n",
      "\n",
      "Epoch number 0\n",
      " Current loss 0.0\n",
      "\n",
      "Epoch number 0\n",
      " Current loss 0.0\n",
      "\n",
      "Epoch number 0\n",
      " Current loss 1.5572270154953003\n",
      "\n",
      "Epoch number 0\n",
      " Current loss 0.3649776875972748\n",
      "\n",
      "Epoch number 0\n",
      " Current loss 0.24578627943992615\n",
      "\n",
      "Epoch number 0\n",
      " Current loss 0.0\n",
      "\n",
      "Epoch number 1\n",
      " Current loss 0.1480584442615509\n",
      "\n",
      "Epoch number 1\n",
      " Current loss 0.4020368158817291\n",
      "\n",
      "Epoch number 1\n",
      " Current loss 0.10935287922620773\n",
      "\n",
      "Epoch number 1\n",
      " Current loss 0.0038543292321264744\n",
      "\n",
      "Epoch number 1\n",
      " Current loss 1.2580008506774902\n",
      "\n",
      "Epoch number 1\n",
      " Current loss 0.08876640349626541\n",
      "\n",
      "Epoch number 1\n",
      " Current loss 1.1275063753128052\n",
      "\n",
      "Epoch number 1\n",
      " Current loss 0.08163253962993622\n",
      "\n",
      "Epoch number 1\n",
      " Current loss 0.2262517213821411\n",
      "\n",
      "Epoch number 1\n",
      " Current loss 0.0\n",
      "\n",
      "Epoch number 1\n",
      " Current loss 0.0\n",
      "\n",
      "Epoch number 1\n",
      " Current loss 0.0\n",
      "\n",
      "Epoch number 1\n",
      " Current loss 0.021187130361795425\n",
      "\n",
      "Epoch number 1\n",
      " Current loss 0.0\n",
      "\n",
      "Epoch number 1\n",
      " Current loss 1.3423055410385132\n",
      "\n",
      "Epoch number 1\n",
      " Current loss 0.07325447350740433\n",
      "\n",
      "Epoch number 1\n",
      " Current loss 0.0\n",
      "\n",
      "Epoch number 1\n",
      " Current loss 0.09831438213586807\n",
      "\n",
      "Epoch number 1\n",
      " Current loss 0.03540319949388504\n",
      "\n",
      "Epoch number 1\n",
      " Current loss 0.38597211241722107\n",
      "\n",
      "Epoch number 1\n",
      " Current loss 0.0\n",
      "\n",
      "Epoch number 1\n",
      " Current loss 0.0017682429170235991\n",
      "\n",
      "Epoch number 1\n",
      " Current loss 0.2801092565059662\n",
      "\n",
      "Epoch number 1\n",
      " Current loss 0.0\n",
      "\n",
      "Epoch number 1\n",
      " Current loss 0.0\n",
      "\n",
      "Epoch number 1\n",
      " Current loss 0.0\n",
      "\n",
      "Epoch number 1\n",
      " Current loss 0.1784505546092987\n",
      "\n",
      "Epoch number 1\n",
      " Current loss 0.0\n",
      "\n",
      "Epoch number 1\n",
      " Current loss 0.0\n",
      "\n",
      "Epoch number 1\n",
      " Current loss 0.2305179089307785\n",
      "\n",
      "Epoch number 1\n",
      " Current loss 0.21244576573371887\n",
      "\n",
      "Epoch number 1\n",
      " Current loss 0.5057745575904846\n",
      "\n",
      "Epoch number 1\n",
      " Current loss 0.2682499587535858\n",
      "\n",
      "Epoch number 1\n",
      " Current loss 0.5031574368476868\n",
      "\n",
      "Epoch number 1\n",
      " Current loss 0.10027407854795456\n",
      "\n",
      "Epoch number 1\n",
      " Current loss 0.0\n",
      "\n",
      "Epoch number 1\n",
      " Current loss 0.04221726953983307\n",
      "\n",
      "Epoch number 1\n",
      " Current loss 0.0\n",
      "\n",
      "Epoch number 1\n",
      " Current loss 2.2242870330810547\n",
      "\n",
      "Epoch number 1\n",
      " Current loss 0.06900215893983841\n",
      "\n",
      "Epoch number 1\n",
      " Current loss 0.012209349311888218\n",
      "\n",
      "Epoch number 1\n",
      " Current loss 0.15217691659927368\n",
      "\n"
     ]
    }
   ],
   "source": [
    "cnn.train()\n",
    "for epoch in range(0, 2):\n",
    "    for i, (pixels, attributes, label) in enumerate(train_dataset):\n",
    "        pixels, attributes, label = (\n",
    "            torch.tensor(pixels.reshape(1, 1, 28, 28)).to(device),\n",
    "            torch.tensor(attributes).float().to(device),\n",
    "            label,\n",
    "        )\n",
    "        optimizer.zero_grad()\n",
    "        output1, output2 = cnn.forward(pixels, attributes)\n",
    "        loss_contrastive = criterion(output1, output2, label)\n",
    "        loss_contrastive.backward()\n",
    "        optimizer.step()\n",
    "        if i % 500 == 0:\n",
    "            print(\n",
    "                \"Epoch number {}\\n Current loss {}\\n\".format(\n",
    "                    epoch, loss_contrastive.item()\n",
    "                )\n",
    "            )"
   ]
  },
  {
   "cell_type": "markdown",
   "metadata": {},
   "source": [
    "#### Creating Validation Dataset"
   ]
  },
  {
   "cell_type": "code",
   "execution_count": 23,
   "metadata": {},
   "outputs": [],
   "source": [
    "class DigitsDataset(Dataset):\n",
    "    def __init__(self, data, transform, classes_subset, shuffle=True):\n",
    "        self.data = (\n",
    "            data[data.label.isin(classes_subset)].sample(frac=1).reset_index(drop=True)\n",
    "            if shuffle\n",
    "            else data\n",
    "        )\n",
    "        self.transform = transform\n",
    "\n",
    "    def __len__(self):\n",
    "        return len(self.data)\n",
    "\n",
    "    def __getitem__(self, index):\n",
    "        item = self.data.iloc[index]\n",
    "        pixels = np.array(item[1:]).astype(np.uint8).reshape((28, 28))\n",
    "        label = item[0]\n",
    "        if self.transform is not None:\n",
    "            pixels = self.transform(pixels)\n",
    "\n",
    "        return pixels, label"
   ]
  },
  {
   "cell_type": "code",
   "execution_count": 24,
   "metadata": {},
   "outputs": [],
   "source": [
    "validation_dataset = DigitsDataset(\n",
    "    train.iloc[~train_indexes], transform=transformation, classes_subset=[7, 9, 8]\n",
    ")\n",
    "attributes_df = pd.read_csv(\"data/mnist_attributes.csv\")"
   ]
  },
  {
   "cell_type": "code",
   "execution_count": 31,
   "metadata": {},
   "outputs": [
    {
     "data": {
      "text/plain": [
       "7"
      ]
     },
     "execution_count": 31,
     "metadata": {},
     "output_type": "execute_result"
    },
    {
     "data": {
      "image/png": "[encoded data removed]",
      "text/plain": [
       "<Figure size 432x288 with 1 Axes>"
      ]
     },
     "metadata": {
      "needs_background": "light"
     },
     "output_type": "display_data"
    }
   ],
   "source": [
    "i = validation_dataset[10]\n",
    "plt.imshow(i[0].reshape(28, 28))\n",
    "i[1]"
   ]
  },
  {
   "cell_type": "code",
   "execution_count": 36,
   "metadata": {},
   "outputs": [
    {
     "data": {
      "text/plain": [
       "{7: tensor([0.0000, 0.0000, 1.1880, 0.9647, 0.1244], device='cuda:0'),\n",
       " 8: tensor([0.8560, 0.0000, 2.1143, 0.3307, 2.1965], device='cuda:0'),\n",
       " 9: tensor([0.0000, 0.0000, 2.3853, 1.5444, 1.8408], device='cuda:0')}"
      ]
     },
     "execution_count": 36,
     "metadata": {},
     "output_type": "execute_result"
    }
   ],
   "source": [
    "cnn.eval()\n",
    "attrib = {}\n",
    "with torch.no_grad():\n",
    "    for r in attributes_df.to_numpy()[7 : 9 + 1]:\n",
    "        output1 = cnn.forward_sem(torch.tensor(r[1:]).float().to(device))\n",
    "        attrib[r[0]] = output1\n",
    "attrib"
   ]
  },
  {
   "cell_type": "code",
   "execution_count": 39,
   "metadata": {},
   "outputs": [
    {
     "name": "stderr",
     "output_type": "stream",
     "text": [
      "<ipython-input-39-97be43735b71>:8: UserWarning: To copy construct from a tensor, it is recommended to use sourceTensor.clone().detach() or sourceTensor.clone().detach().requires_grad_(True), rather than torch.tensor(sourceTensor).\n",
      "  pixels = torch.tensor(pixels.reshape(1, 1, 28, 28)).to(device)\n"
     ]
    },
    {
     "data": {
      "text/plain": [
       "60.022547914317926"
      ]
     },
     "execution_count": 39,
     "metadata": {},
     "output_type": "execute_result"
    }
   ],
   "source": [
    "cnn.eval()\n",
    "with torch.no_grad():\n",
    "    n_correct_attributes = 0\n",
    "    pred_label = None\n",
    "    for i, (pixels, label) in enumerate(validation_dataset):\n",
    "        pixels = torch.tensor(pixels.reshape(1, 1, 28, 28)).to(device)\n",
    "        output1 = cnn.forward_cnn(pixels)\n",
    "        dist = sys.maxsize\n",
    "        for k, v in attrib.items():\n",
    "            z = F.pairwise_distance(output1, v).item()\n",
    "            if z < dist:\n",
    "                pred_label = k\n",
    "                dist = z\n",
    "        if pred_label == label:\n",
    "            n_correct_attributes += 1\n",
    "n_correct_attributes * 100.0 / len(validation_dataset)"
   ]
  },
  {
   "cell_type": "markdown",
   "metadata": {},
   "source": [
    "#### Saving the trained model"
   ]
  },
  {
   "cell_type": "code",
   "execution_count": null,
   "metadata": {},
   "outputs": [],
   "source": [
    "checkpoint_dict = {\"optimizer\": optimizer.state_dict(), \"model\": cnn.state_dict()}\n",
    "torch.save(checkpoint_dict, \"A2\")"
   ]
  },
  {
   "cell_type": "markdown",
   "metadata": {},
   "source": [
    "#### Loading the trained model"
   ]
  },
  {
   "cell_type": "code",
   "execution_count": null,
   "metadata": {},
   "outputs": [],
   "source": [
    "cnn.load_state_dict(torch.load(\"A2\")[\"model\"])"
   ]
  }
 ],
 "metadata": {
  "kernelspec": {
   "display_name": "Python [conda env:pytorch_env]",
   "language": "python",
   "name": "conda-env-pytorch_env-py"
  },
  "language_info": {
   "codemirror_mode": {
    "name": "ipython",
    "version": 3
   },
   "file_extension": ".py",
   "mimetype": "text/x-python",
   "name": "python",
   "nbconvert_exporter": "python",
   "pygments_lexer": "ipython3",
   "version": "3.8.2"
  }
 },
 "nbformat": 4,
 "nbformat_minor": 4
}
