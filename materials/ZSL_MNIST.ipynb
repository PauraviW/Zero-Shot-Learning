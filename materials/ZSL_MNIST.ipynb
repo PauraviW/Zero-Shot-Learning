{
 "cells": [
  {
   "cell_type": "code",
   "execution_count": 6,
   "metadata": {
    "Collapsed": "false"
   },
   "outputs": [],
   "source": [
    "import numpy as np\n",
    "from torch.utils.data import Dataset, DataLoader\n",
    "import pandas as pd\n",
    "\n",
    "import pandas as pd\n",
    "import torch as T\n",
    "import torch.nn as nn\n",
    "import torch.nn.functional as F\n",
    "import torch.optim\n",
    "from torchvision import transforms, models"
   ]
  },
  {
   "cell_type": "code",
   "execution_count": 26,
   "metadata": {
    "Collapsed": "false"
   },
   "outputs": [],
   "source": [
    "np.random.seed(54321)"
   ]
  },
  {
   "cell_type": "code",
   "execution_count": 11,
   "metadata": {
    "Collapsed": "false"
   },
   "outputs": [],
   "source": [
    "class DigitsDataset(Dataset):\n",
    "    def __init__(self, data, transform, attributes, classes_subset, shuffle = True):\n",
    "        self.data = data[data.label.isin(classes_subset)].sample(frac=1).reset_index(drop=True) if shuffle else data\n",
    "        self.transform = transform\n",
    "        self.attributes = attributes\n",
    "\n",
    "    def __len__(self):\n",
    "        return len(self.data)\n",
    "\n",
    "    def __getitem__(self, index):\n",
    "        item = self.data.iloc[index]\n",
    "        pixels = np.array(item[1:]).astype(np.uint8).reshape((28, 28))\n",
    "        label = item[0]\n",
    "        attributes = self.attributes[self.attributes.Digit == int(label)].iloc[:, 1:].values\n",
    "        if self.transform is not None:\n",
    "            pixels = self.transform(pixels)\n",
    "\n",
    "        return pixels, label, attributes"
   ]
  },
  {
   "cell_type": "code",
   "execution_count": 4,
   "metadata": {
    "Collapsed": "false"
   },
   "outputs": [],
   "source": [
    "class CNN(nn.Module):\n",
    "    def __init__(self, alpha, output_dim, batch_size):\n",
    "        super().__init__()\n",
    "        self.batch_size = batch_size\n",
    "        self.conv1 = nn.Conv2d(in_channels=1, out_channels=16, kernel_size=5)\n",
    "        self.conv2 = nn.Conv2d(in_channels=16, out_channels=32, kernel_size=5)\n",
    "        self.lin = nn.Linear(20 * 20 * 32, output_dim)\n",
    "\n",
    "\n",
    "        self.loss = nn.BCELoss()\n",
    "        self.optimizer = torch.optim.SGD(self.parameters(), lr = alpha)\n",
    "\n",
    "        self.device = torch.device(\"cuda\" if torch.cuda.is_available() else \"cpu\")\n",
    "        print(self.device)\n",
    "        self.to(self.device)\n",
    "\n",
    "    def forward(self, x):\n",
    "        x = F.relu(self.conv1(x))\n",
    "        x = F.relu(self.conv2(x))\n",
    "        x = self.lin(x.view(-1, 20 * 20 * 32))\n",
    "        x = F.sigmoid(x)\n",
    "        return x\n",
    "\n",
    "    def save(self, path):\n",
    "        T.save(self.state_dict(), path)\n",
    "\n",
    "    def load(self, path):\n",
    "        self.load_state_dict(T.load(path))"
   ]
  },
  {
   "cell_type": "code",
   "execution_count": 7,
   "metadata": {
    "Collapsed": "false"
   },
   "outputs": [],
   "source": [
    "def get_euclidean_dist(curr_labels, class_labels):\n",
    "    return np.sqrt(np.sum((curr_labels - class_labels) ** 2))\n",
    "\n",
    "def predict_label(predicted_attributes, all_attributes, classes_to_predict_from):\n",
    "    predicted_labels = []\n",
    "    attribute_subset = all_attributes[all_attributes.Digit.isin(classes_to_predict_from)]\n",
    "    for predicted_attribute in predicted_attributes:\n",
    "        distances = [(class_label, get_euclidean_dist(predicted_attribute, attribute_subset[attribute_subset.Digit == class_label].iloc[:,1:].values)) for class_label in classes_to_predict_from]\n",
    "        predicted_label = sorted(distances, key = lambda x: x[1])[0][0]\n",
    "        predicted_labels.append(predicted_label)\n",
    "    return np.array(predicted_labels)"
   ]
  },
  {
   "cell_type": "code",
   "execution_count": 34,
   "metadata": {
    "Collapsed": "false"
   },
   "outputs": [],
   "source": [
    "batch_size = 32\n",
    "n_epochs = 30\n",
    "learning_rate = 0.05\n",
    "\n",
    "transformation = transforms.Compose([\n",
    "    transforms.ToPILImage(),\n",
    "    transforms.ToTensor(),\n",
    "    transforms.Normalize(mean = (0.5, ), std = (0.5, ))\n",
    "])"
   ]
  },
  {
   "cell_type": "code",
   "execution_count": 28,
   "metadata": {
    "Collapsed": "false"
   },
   "outputs": [
    {
     "name": "stdout",
     "output_type": "stream",
     "text": [
      "cuda\n"
     ]
    }
   ],
   "source": [
    "train = pd.read_csv(\"../data/train.csv\")\n",
    "test = pd.read_csv(\"../data/test.csv\")\n",
    "attributes_df = pd.read_csv(\"../data/mnist_attributes.csv\")\n",
    "\n",
    "params = {'batch_size': batch_size, 'shuffle': True, 'num_workers': 6}\n",
    "\n",
    "train_split = 0.7\n",
    "n_rows = len(train)\n",
    "len_training = int(n_rows * train_split)\n",
    "\n",
    "training_classes = [0,1,2,3,4,5]\n",
    "testing_classes = [6,7,8,9]\n",
    "\n",
    "train_indexes = np.random.choice(len(train), size = len_training, replace = False)\n",
    "\n",
    "train_dataset = DigitsDataset(train.iloc[train_indexes], attributes = attributes_df, transform = transformation, classes_subset=training_classes)\n",
    "training_generator = DataLoader(train_dataset, **params)\n",
    "\n",
    "validation_dataset = DigitsDataset(train.iloc[~train_indexes], attributes = attributes_df, transform = transformation, classes_subset=testing_classes)\n",
    "validation_generator = DataLoader(validation_dataset, **params)\n",
    "\n"
   ]
  },
  {
   "cell_type": "code",
   "execution_count": 35,
   "metadata": {
    "Collapsed": "false"
   },
   "outputs": [
    {
     "name": "stdout",
     "output_type": "stream",
     "text": [
      "cuda\n",
      "Epoch: 0, Loss: 0.12673683821056947\n",
      "Epoch: 0, Accuracy: 42.915531335149865\n",
      "Epoch: 1, Loss: 0.03791871742651904\n",
      "Epoch: 2, Loss: 0.02816648607581827\n",
      "Epoch: 3, Loss: 0.023542314281335158\n",
      "Epoch: 4, Loss: 0.02095813926913107\n",
      "Epoch: 5, Loss: 0.01855555548806082\n",
      "Epoch: 6, Loss: 0.01673741827566921\n",
      "Epoch: 7, Loss: 0.015358390629495313\n",
      "Epoch: 8, Loss: 0.014279267854412182\n",
      "Epoch: 9, Loss: 0.013406086840595676\n",
      "Epoch: 10, Loss: 0.012495416700423175\n",
      "Epoch: 10, Accuracy: 50.49386920980926\n",
      "Epoch: 11, Loss: 0.011205122276078986\n",
      "Epoch: 12, Loss: 0.010504062380873267\n",
      "Epoch: 13, Loss: 0.009804484412111139\n",
      "Epoch: 14, Loss: 0.009482488401190363\n",
      "Epoch: 15, Loss: 0.008552182829326438\n",
      "Epoch: 16, Loss: 0.008084309924285266\n",
      "Epoch: 17, Loss: 0.007699286712993107\n",
      "Epoch: 18, Loss: 0.006922756196708068\n",
      "Epoch: 19, Loss: 0.00673982410487057\n",
      "Epoch: 20, Loss: 0.006381511355498802\n",
      "Epoch: 20, Accuracy: 50.366144414168936\n",
      "Epoch: 21, Loss: 0.005947066550562253\n",
      "Epoch: 22, Loss: 0.005345270055360717\n",
      "Epoch: 23, Loss: 0.005046454223850331\n",
      "Epoch: 24, Loss: 0.0046567320352245275\n",
      "Epoch: 25, Loss: 0.004174843622180722\n",
      "Epoch: 26, Loss: 0.004006282519882667\n",
      "Epoch: 27, Loss: 0.0036613384354512238\n",
      "Epoch: 28, Loss: 0.003449017060442593\n",
      "Epoch: 29, Loss: 0.003270532039434796\n",
      "Epoch: 30, Loss: 0.002950011635604222\n",
      "Epoch: 30, Accuracy: 51.49863760217983\n"
     ]
    }
   ],
   "source": [
    "model = CNN(alpha = learning_rate, batch_size = batch_size, output_dim=7)\n",
    "model.train()\n",
    "for i in range(n_epochs+1):\n",
    "    losses = []\n",
    "    for images, labels, attributes in training_generator:\n",
    "        images = images.to(model.device)\n",
    "        labels = labels.to(model.device)\n",
    "        attributes = attributes.view(-1, 7).float().to(model.device)\n",
    "        model.optimizer.zero_grad()\n",
    "        attributes_predicted = model.forward(images).float()\n",
    "        loss = model.loss(attributes_predicted, attributes).to(model.device)\n",
    "        losses.append(loss.item())\n",
    "        loss.backward()\n",
    "        model.optimizer.step()\n",
    "    print(f\"Epoch: {i}, Loss: {np.mean(losses)}\")\n",
    "    if i%10 == 0:\n",
    "        with T.no_grad():\n",
    "            accuracy = []\n",
    "            for images, labels, attributes in validation_generator:\n",
    "                images = images.to(model.device)\n",
    "                labels = labels\n",
    "                attributes_predicted = model.forward(images).float()\n",
    "                predicted_labels = predict_label(attributes_predicted.cpu().numpy(), attributes_df, classes_to_predict_from=testing_classes)\n",
    "                n_correct_attributes =  np.sum(labels.numpy() == predicted_labels)\n",
    "                accuracy.append(n_correct_attributes * 100.0 / len(labels))\n",
    "            print(f\"Epoch: {i}, Accuracy: {np.mean(accuracy)}\")"
   ]
  }
 ],
 "metadata": {
  "kernelspec": {
   "display_name": "Python 3",
   "language": "python",
   "name": "python3"
  },
  "language_info": {
   "codemirror_mode": {
    "name": "ipython",
    "version": 3
   },
   "file_extension": ".py",
   "mimetype": "text/x-python",
   "name": "python",
   "nbconvert_exporter": "python",
   "pygments_lexer": "ipython3",
   "version": "3.7.5"
  }
 },
 "nbformat": 4,
 "nbformat_minor": 4
}
