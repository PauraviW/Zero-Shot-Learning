{
 "cells": [
  {
   "cell_type": "code",
   "execution_count": 20,
   "metadata": {
    "Collapsed": "false"
   },
   "outputs": [],
   "source": [
    "from __future__ import absolute_import\n",
    "from __future__ import print_function\n",
    "import numpy as np\n",
    "import random\n",
    "\n",
    "from keras.datasets import mnist\n",
    "from keras.models import Model, Sequential\n",
    "from keras.layers import Input, Conv2D, Flatten, Dense, Dropout, Lambda, Subtract, MaxPooling2D\n",
    "from keras.optimizers import RMSprop\n",
    "from keras import backend as K\n",
    "from keras.regularizers import l2\n",
    "from numpy.random import permutation\n",
    "from sklearn.model_selection import train_test_split\n",
    "from matplotlib import pyplot as plt\n",
    "import seaborn as sns\n",
    "\n",
    "sns.set()\n",
    "\n",
    "import warnings\n",
    "warnings.filterwarnings('ignore')"
   ]
  },
  {
   "cell_type": "code",
   "execution_count": 2,
   "metadata": {
    "Collapsed": "false"
   },
   "outputs": [],
   "source": [
    "np.random.seed(12345)"
   ]
  },
  {
   "cell_type": "code",
   "execution_count": 3,
   "metadata": {
    "Collapsed": "false"
   },
   "outputs": [],
   "source": [
    "plt.rcParams[\"figure.figsize\"] = (14,8)"
   ]
  },
  {
   "cell_type": "code",
   "execution_count": 4,
   "metadata": {
    "Collapsed": "false"
   },
   "outputs": [],
   "source": [
    "num_classes = 10\n",
    "epochs = 10\n",
    "\n",
    "class_1 = 1\n",
    "class_2 = 1\n",
    "n_same_class_samples = 5000\n",
    "n_diff_class_samples = 1500  # 3000\n",
    "n_hybrid_class_samples = 1750\n",
    "\n",
    "classes_to_train = [0,1,2,3,4,5]\n",
    "classes_to_test = [6,7,8,9]"
   ]
  },
  {
   "cell_type": "code",
   "execution_count": 5,
   "metadata": {
    "Collapsed": "false"
   },
   "outputs": [],
   "source": [
    "def generate_example_pairs(data, indices, class_1, class_2):\n",
    "    class_1_indices = indices[class_1]\n",
    "    class_2_indices = indices[class_2]\n",
    "\n",
    "    image_0 = data[np.random.choice(class_1_indices)]\n",
    "    image_1 = data[np.random.choice(class_2_indices)]\n",
    "    # return [image_0, image_1]\n",
    "    return [image_0.reshape(28,28,1), image_1.reshape(28,28,1)]\n",
    "\n",
    "\n",
    "def generate_examples(data, indices, class_1, class_2):\n",
    "    same_classes = [generate_example_pairs(data, indices, class_1, class_1) for _ in range(n_same_class_samples)]\n",
    "    different_classes = [generate_example_pairs(data, indices,\n",
    "                                                       np.random.choice(list(set(classes_to_train) - {class_1})),\n",
    "                                                       np.random.choice(list(set(classes_to_train) - {class_2})))\n",
    "                                for _ in range(n_diff_class_samples)]\n",
    "    hybrid_classes = [generate_example_pairs(data, indices, class_1, np.random.choice(list(set(classes_to_train) - {class_2}))) for _ in range(n_hybrid_class_samples)] + \\\n",
    "                     [generate_example_pairs(data, indices, class_2, np.random.choice(list(set(classes_to_train) - {class_1}))) for _ in range(n_hybrid_class_samples)]\n",
    "\n",
    "    images = same_classes + different_classes + hybrid_classes\n",
    "    labels = [1] * n_same_class_samples + [0] * (n_diff_class_samples + n_hybrid_class_samples + n_hybrid_class_samples)\n",
    "    return np.array(images), np.array(labels)"
   ]
  },
  {
   "cell_type": "code",
   "execution_count": 6,
   "metadata": {
    "Collapsed": "false"
   },
   "outputs": [],
   "source": [
    "# https://keras.io/examples/mnist_siamese/\n",
    "def create_base_network(input_shape):\n",
    "    input = Input(shape=input_shape)\n",
    "    x = Flatten()(input)\n",
    "    x = Dense(128, activation='relu')(x)\n",
    "    x = Dropout(0.1)(x)\n",
    "    x = Dense(128, activation='relu')(x)\n",
    "    x = Dropout(0.1)(x)\n",
    "    x = Dense(128, activation='relu')(x)\n",
    "    return Model(input, x)"
   ]
  },
  {
   "cell_type": "code",
   "execution_count": 7,
   "metadata": {
    "Collapsed": "false"
   },
   "outputs": [],
   "source": [
    "def create_conv_network(input_shape):\n",
    "    convnet = Sequential()\n",
    "    convnet.add(Conv2D(32,(3,3),padding=\"same\",activation='relu',input_shape=input_shape))\n",
    "    convnet.add(MaxPooling2D())\n",
    "    convnet.add(Conv2D(64,(7,7), padding=\"same\", activation='relu'))\n",
    "    convnet.add(MaxPooling2D())\n",
    "    convnet.add(Conv2D(64,(4,4), padding = \"same\", activation='relu'))\n",
    "    convnet.add(Flatten())\n",
    "    convnet.add(Dense(128,activation=\"sigmoid\"))\n",
    "    return convnet"
   ]
  },
  {
   "cell_type": "code",
   "execution_count": 8,
   "metadata": {
    "Collapsed": "false"
   },
   "outputs": [],
   "source": [
    "def contrastive_loss(y_true, y_pred):\n",
    "    '''Contrastive loss from Hadsell-et-al.'06\n",
    "    http://yann.lecun.com/exdb/publis/pdf/hadsell-chopra-lecun-06.pdf\n",
    "    '''\n",
    "    margin = 1\n",
    "    square_pred = K.square(y_pred)\n",
    "    margin_square = K.square(K.maximum(margin - y_pred, 0))\n",
    "    #   return K.mean(y_true * square_pred + (1-y_true) * margin_square)\n",
    "    return K.mean(y_true * margin_square + (1 - y_true) * square_pred)"
   ]
  },
  {
   "cell_type": "code",
   "execution_count": 9,
   "metadata": {
    "Collapsed": "false"
   },
   "outputs": [],
   "source": [
    "def accuracy(y_true, y_pred):\n",
    "    return K.mean(K.equal(y_true, K.cast(y_pred > 0.5, y_true.dtype)))\n",
    "\n",
    "def recall_m(y_true, y_pred):\n",
    "    y_pred = K.cast(y_pred > 0.5, y_true.dtype)\n",
    "\n",
    "    true_positives = (K.round(K.clip(y_true * y_pred, 0, 1)))\n",
    "    possible_positives = (K.round(K.clip(y_true, 0, 1)))\n",
    "    recall = K.mean(K.equal(true_positives, possible_positives))\n",
    "    return recall\n",
    "\n",
    "def precision_m(y_true, y_pred):\n",
    "    y_pred = K.cast(y_pred > 0.5, y_true.dtype)\n",
    "    true_positives = (K.round(K.clip(y_true * y_pred, 0, 1)))\n",
    "    predicted_positives = (K.round(K.clip(y_pred, 0, 1)))\n",
    "    precision = K.mean(K.equal(true_positives, predicted_positives))\n",
    "    return precision\n",
    "\n",
    "def f1_m(y_true, y_pred):\n",
    "    precision = precision_m(y_true, y_pred)\n",
    "    recall = recall_m(y_true, y_pred)\n",
    "    return 2 * ((precision * recall) / (precision + recall + K.epsilon()))"
   ]
  },
  {
   "cell_type": "code",
   "execution_count": 10,
   "metadata": {
    "Collapsed": "false"
   },
   "outputs": [],
   "source": [
    "def compute_accuracy(y_true, y_pred, threshold = 0.5):\n",
    "    pred = y_pred.ravel() > threshold\n",
    "    return np.mean(pred == y_true)"
   ]
  },
  {
   "cell_type": "code",
   "execution_count": 11,
   "metadata": {
    "Collapsed": "false"
   },
   "outputs": [],
   "source": [
    "(x_train, y_train), (x_test, y_test) = mnist.load_data()\n",
    "x_train = x_train.astype('float32')\n",
    "x_test = x_test.astype('float32')\n",
    "x_train /= 255\n",
    "x_test /= 255\n",
    "input_shape = (28,28, 1)\n",
    "\n",
    "n_classes = len(np.unique(y_train))"
   ]
  },
  {
   "cell_type": "markdown",
   "metadata": {
    "Collapsed": "false"
   },
   "source": [
    "# Sample examples"
   ]
  },
  {
   "cell_type": "code",
   "execution_count": 12,
   "metadata": {
    "Collapsed": "false"
   },
   "outputs": [],
   "source": [
    "sample_test_image_indices = np.random.choice(len(y_test), size = 20, replace = False)\n",
    "sample_test_images = x_test[sample_test_image_indices]"
   ]
  },
  {
   "cell_type": "code",
   "execution_count": 13,
   "metadata": {
    "Collapsed": "false"
   },
   "outputs": [
    {
     "data": {
      "image/png": "[encoded data removed]",
      "text/plain": [
       "<Figure size 1008x576 with 20 Axes>"
      ]
     },
     "metadata": {
      "needs_background": "light"
     },
     "output_type": "display_data"
    }
   ],
   "source": [
    "n_row = 2\n",
    "n_col = 10\n",
    "fig, ax = plt.subplots(n_row, n_col)\n",
    "for row in range(n_row):\n",
    "    for col in range(n_col):\n",
    "        ax[row][col].imshow(sample_test_images[row*n_col + col])\n",
    "plt.show()"
   ]
  },
  {
   "cell_type": "markdown",
   "metadata": {
    "Collapsed": "false"
   },
   "source": [
    "# Class to Class SM"
   ]
  },
  {
   "cell_type": "code",
   "execution_count": 14,
   "metadata": {
    "Collapsed": "false"
   },
   "outputs": [],
   "source": [
    "def C2C_SN(c1, c2):\n",
    "    # create training+test positive and negative pairs\n",
    "    training_digit_indices = {i:np.where(y_train == i)[0] for i in classes_to_train}\n",
    "    training_pairs, training_label = generate_examples(x_train, training_digit_indices, c1, c2)\n",
    "\n",
    "    # Use the classes that are being trained upon from the test data as the validation\n",
    "    testing_digit_indices = {i:np.where(y_test == i)[0] for i in classes_to_train}\n",
    "    testing_pairs, testing_label = generate_examples(x_test, testing_digit_indices, c1, c2)\n",
    "\n",
    "    # network definition\n",
    "    base_network = create_conv_network(input_shape)\n",
    "\n",
    "    #base_network.summary()\n",
    "    input_a = Input(shape=input_shape)\n",
    "    input_b = Input(shape=input_shape) \n",
    "\n",
    "    processed_a = base_network(input_a)\n",
    "    processed_b = base_network(input_b)\n",
    "\n",
    "    # c2c lower model\n",
    "    subtracted = Subtract()([processed_a, processed_b])\n",
    "    x = Lambda(lambda val: abs(val))(subtracted)\n",
    "    x = Dense(128, activation='relu')(x)\n",
    "    x = Dense(128, activation='relu')(x)\n",
    "    x = Dense(128, activation='relu')(x)\n",
    "    x = Dense(128, activation='relu')(x)\n",
    "    out = Dense(1, activation=\"sigmoid\")(x)\n",
    "    model = Model([input_a, input_b], out)\n",
    "\n",
    "    rms = RMSprop()\n",
    "    model.compile(loss=contrastive_loss, optimizer=rms, metrics=[accuracy, recall_m, precision_m, f1_m])\n",
    "    model.fit([training_pairs[:,0], training_pairs[:,1]], training_label,\n",
    "              batch_size=128,\n",
    "              epochs=epochs,\n",
    "              validation_data=([testing_pairs[:, 0], testing_pairs[:, 1]], testing_label))\n",
    "    return model"
   ]
  },
  {
   "cell_type": "code",
   "execution_count": 15,
   "metadata": {
    "Collapsed": "false",
    "collapsed": true,
    "jupyter": {
     "outputs_hidden": true
    }
   },
   "outputs": [
    {
     "name": "stdout",
     "output_type": "stream",
     "text": [
      "WARNING:tensorflow:From /home/pecey/.local/lib/python3.7/site-packages/keras/backend/tensorflow_backend.py:4070: The name tf.nn.max_pool is deprecated. Please use tf.nn.max_pool2d instead.\n",
      "\n",
      "WARNING:tensorflow:From /home/pecey/.local/lib/python3.7/site-packages/tensorflow/python/ops/math_grad.py:1250: add_dispatch_support.<locals>.wrapper (from tensorflow.python.ops.array_ops) is deprecated and will be removed in a future version.\n",
      "Instructions for updating:\n",
      "Use tf.where in 2.0, which has the same broadcast rule as np.where\n",
      "WARNING:tensorflow:From /home/pecey/.local/lib/python3.7/site-packages/keras/backend/tensorflow_backend.py:422: The name tf.global_variables is deprecated. Please use tf.compat.v1.global_variables instead.\n",
      "\n",
      "Train on 10000 samples, validate on 10000 samples\n",
      "Epoch 1/10\n",
      "10000/10000 [==============================] - 17s 2ms/step - loss: 0.0556 - accuracy: 0.9239 - recall_m: 0.9422 - precision_m: 0.9816 - f1_m: 0.9563 - val_loss: 0.0076 - val_accuracy: 0.9917 - val_recall_m: 0.9967 - val_precision_m: 0.9950 - val_f1_m: 0.9958\n",
      "Epoch 2/10\n",
      "10000/10000 [==============================] - 17s 2ms/step - loss: 0.0097 - accuracy: 0.9878 - recall_m: 0.9920 - precision_m: 0.9958 - f1_m: 0.9938 - val_loss: 0.0047 - val_accuracy: 0.9945 - val_recall_m: 0.9985 - val_precision_m: 0.9959 - val_f1_m: 0.9972\n",
      "Epoch 3/10\n",
      "10000/10000 [==============================] - 17s 2ms/step - loss: 0.0057 - accuracy: 0.9926 - recall_m: 0.9963 - precision_m: 0.9962 - f1_m: 0.9963 - val_loss: 0.0042 - val_accuracy: 0.9955 - val_recall_m: 0.9994 - val_precision_m: 0.9960 - val_f1_m: 0.9977\n",
      "Epoch 4/10\n",
      "10000/10000 [==============================] - 18s 2ms/step - loss: 0.0036 - accuracy: 0.9957 - recall_m: 0.9982 - precision_m: 0.9975 - f1_m: 0.9979 - val_loss: 0.0028 - val_accuracy: 0.9966 - val_recall_m: 0.9989 - val_precision_m: 0.9977 - val_f1_m: 0.9983\n",
      "Epoch 5/10\n",
      "10000/10000 [==============================] - 18s 2ms/step - loss: 0.0021 - accuracy: 0.9972 - recall_m: 0.9981 - precision_m: 0.9991 - f1_m: 0.9986 - val_loss: 0.0023 - val_accuracy: 0.9974 - val_recall_m: 0.9985 - val_precision_m: 0.9989 - val_f1_m: 0.9987\n",
      "Epoch 6/10\n",
      "10000/10000 [==============================] - 18s 2ms/step - loss: 0.0023 - accuracy: 0.9976 - recall_m: 0.9997 - precision_m: 0.9979 - f1_m: 0.9988 - val_loss: 0.0052 - val_accuracy: 0.9939 - val_recall_m: 0.9958 - val_precision_m: 0.9980 - val_f1_m: 0.9969\n",
      "Epoch 7/10\n",
      "10000/10000 [==============================] - 18s 2ms/step - loss: 0.0020 - accuracy: 0.9976 - recall_m: 0.9984 - precision_m: 0.9992 - f1_m: 0.9988 - val_loss: 0.0032 - val_accuracy: 0.9966 - val_recall_m: 0.9994 - val_precision_m: 0.9972 - val_f1_m: 0.9983\n",
      "Epoch 8/10\n",
      "10000/10000 [==============================] - 18s 2ms/step - loss: 0.0010 - accuracy: 0.9988 - recall_m: 0.9996 - precision_m: 0.9992 - f1_m: 0.9994 - val_loss: 0.0025 - val_accuracy: 0.9971 - val_recall_m: 0.9991 - val_precision_m: 0.9980 - val_f1_m: 0.9986\n",
      "Epoch 9/10\n",
      "10000/10000 [==============================] - 18s 2ms/step - loss: 0.0014 - accuracy: 0.9983 - recall_m: 0.9989 - precision_m: 0.9994 - f1_m: 0.9992 - val_loss: 0.0032 - val_accuracy: 0.9963 - val_recall_m: 0.9983 - val_precision_m: 0.9980 - val_f1_m: 0.9982\n",
      "Epoch 10/10\n",
      "10000/10000 [==============================] - 18s 2ms/step - loss: 0.0013 - accuracy: 0.9984 - recall_m: 0.9990 - precision_m: 0.9994 - f1_m: 0.9992 - val_loss: 0.0050 - val_accuracy: 0.9948 - val_recall_m: 0.9994 - val_precision_m: 0.9954 - val_f1_m: 0.9974\n",
      "Train on 10000 samples, validate on 10000 samples\n",
      "Epoch 1/10\n",
      "10000/10000 [==============================] - 19s 2ms/step - loss: 0.0587 - accuracy: 0.9236 - recall_m: 0.9446 - precision_m: 0.9789 - f1_m: 0.9562 - val_loss: 0.0115 - val_accuracy: 0.9857 - val_recall_m: 0.9959 - val_precision_m: 0.9897 - val_f1_m: 0.9927\n",
      "Epoch 2/10\n",
      "10000/10000 [==============================] - 18s 2ms/step - loss: 0.0107 - accuracy: 0.9862 - recall_m: 0.9922 - precision_m: 0.9940 - f1_m: 0.9929 - val_loss: 0.0130 - val_accuracy: 0.9827 - val_recall_m: 0.9834 - val_precision_m: 0.9993 - val_f1_m: 0.9912\n",
      "Epoch 3/10\n",
      "10000/10000 [==============================] - 18s 2ms/step - loss: 0.0083 - accuracy: 0.9901 - recall_m: 0.9955 - precision_m: 0.9947 - f1_m: 0.9950 - val_loss: 0.0034 - val_accuracy: 0.9958 - val_recall_m: 0.9991 - val_precision_m: 0.9967 - val_f1_m: 0.9979\n",
      "Epoch 4/10\n",
      "10000/10000 [==============================] - 18s 2ms/step - loss: 0.0038 - accuracy: 0.9951 - recall_m: 0.9974 - precision_m: 0.9976 - f1_m: 0.9975 - val_loss: 0.0037 - val_accuracy: 0.9955 - val_recall_m: 0.9991 - val_precision_m: 0.9964 - val_f1_m: 0.9978\n",
      "Epoch 5/10\n",
      "10000/10000 [==============================] - 18s 2ms/step - loss: 0.0045 - accuracy: 0.9946 - recall_m: 0.9964 - precision_m: 0.9981 - f1_m: 0.9971 - val_loss: 0.0030 - val_accuracy: 0.9962 - val_recall_m: 0.9987 - val_precision_m: 0.9975 - val_f1_m: 0.9981\n",
      "Epoch 6/10\n",
      "10000/10000 [==============================] - 19s 2ms/step - loss: 0.0033 - accuracy: 0.9958 - recall_m: 0.9978 - precision_m: 0.9980 - f1_m: 0.9979 - val_loss: 0.0051 - val_accuracy: 0.9928 - val_recall_m: 0.9932 - val_precision_m: 0.9996 - val_f1_m: 0.9964\n",
      "Epoch 7/10\n",
      "10000/10000 [==============================] - 19s 2ms/step - loss: 0.0017 - accuracy: 0.9981 - recall_m: 0.9987 - precision_m: 0.9994 - f1_m: 0.9991 - val_loss: 0.0031 - val_accuracy: 0.9964 - val_recall_m: 0.9996 - val_precision_m: 0.9968 - val_f1_m: 0.9982\n",
      "Epoch 8/10\n",
      "10000/10000 [==============================] - 18s 2ms/step - loss: 0.0017 - accuracy: 0.9981 - recall_m: 0.9991 - precision_m: 0.9990 - f1_m: 0.9991 - val_loss: 0.0015 - val_accuracy: 0.9981 - val_recall_m: 0.9997 - val_precision_m: 0.9984 - val_f1_m: 0.9991\n",
      "Epoch 9/10\n",
      "10000/10000 [==============================] - 19s 2ms/step - loss: 0.0021 - accuracy: 0.9976 - recall_m: 0.9986 - precision_m: 0.9990 - f1_m: 0.9988 - val_loss: 0.0031 - val_accuracy: 0.9960 - val_recall_m: 0.9979 - val_precision_m: 0.9981 - val_f1_m: 0.9980\n",
      "Epoch 10/10\n",
      "10000/10000 [==============================] - 18s 2ms/step - loss: 0.0015 - accuracy: 0.9983 - recall_m: 0.9989 - precision_m: 0.9994 - f1_m: 0.9992 - val_loss: 0.0029 - val_accuracy: 0.9965 - val_recall_m: 0.9982 - val_precision_m: 0.9983 - val_f1_m: 0.9983\n",
      "Train on 10000 samples, validate on 10000 samples\n",
      "Epoch 1/10\n",
      "10000/10000 [==============================] - 18s 2ms/step - loss: 0.0665 - accuracy: 0.9050 - recall_m: 0.9584 - precision_m: 0.9466 - f1_m: 0.9471 - val_loss: 0.0470 - val_accuracy: 0.9416 - val_recall_m: 0.9982 - val_precision_m: 0.9433 - val_f1_m: 0.9689\n",
      "Epoch 2/10\n",
      "10000/10000 [==============================] - 18s 2ms/step - loss: 0.0171 - accuracy: 0.9793 - recall_m: 0.9888 - precision_m: 0.9905 - f1_m: 0.9895 - val_loss: 0.0466 - val_accuracy: 0.9389 - val_recall_m: 0.9411 - val_precision_m: 0.9978 - val_f1_m: 0.9674\n",
      "Epoch 3/10\n",
      "10000/10000 [==============================] - 18s 2ms/step - loss: 0.0108 - accuracy: 0.9866 - recall_m: 0.9926 - precision_m: 0.9941 - f1_m: 0.9932 - val_loss: 0.0096 - val_accuracy: 0.9868 - val_recall_m: 0.9892 - val_precision_m: 0.9976 - val_f1_m: 0.9933\n",
      "Epoch 4/10\n",
      "10000/10000 [==============================] - 18s 2ms/step - loss: 0.0085 - accuracy: 0.9894 - recall_m: 0.9941 - precision_m: 0.9954 - f1_m: 0.9947 - val_loss: 0.0044 - val_accuracy: 0.9948 - val_recall_m: 0.9980 - val_precision_m: 0.9967 - val_f1_m: 0.9974\n",
      "Epoch 5/10\n",
      "10000/10000 [==============================] - 17s 2ms/step - loss: 0.0054 - accuracy: 0.9937 - recall_m: 0.9966 - precision_m: 0.9970 - f1_m: 0.9968 - val_loss: 0.0030 - val_accuracy: 0.9964 - val_recall_m: 0.9989 - val_precision_m: 0.9975 - val_f1_m: 0.9982\n",
      "Epoch 6/10\n",
      "10000/10000 [==============================] - 18s 2ms/step - loss: 0.0052 - accuracy: 0.9945 - recall_m: 0.9972 - precision_m: 0.9972 - f1_m: 0.9972 - val_loss: 0.0036 - val_accuracy: 0.9955 - val_recall_m: 0.9983 - val_precision_m: 0.9972 - val_f1_m: 0.9978\n",
      "Epoch 7/10\n",
      "10000/10000 [==============================] - 18s 2ms/step - loss: 0.0039 - accuracy: 0.9955 - recall_m: 0.9981 - precision_m: 0.9973 - f1_m: 0.9977 - val_loss: 0.0041 - val_accuracy: 0.9945 - val_recall_m: 0.9957 - val_precision_m: 0.9987 - val_f1_m: 0.9972\n",
      "Epoch 8/10\n",
      "10000/10000 [==============================] - 18s 2ms/step - loss: 0.0029 - accuracy: 0.9965 - recall_m: 0.9983 - precision_m: 0.9982 - f1_m: 0.9983 - val_loss: 0.0165 - val_accuracy: 0.9807 - val_recall_m: 0.9824 - val_precision_m: 0.9983 - val_f1_m: 0.9902\n",
      "Epoch 9/10\n",
      "10000/10000 [==============================] - 19s 2ms/step - loss: 0.0021 - accuracy: 0.9975 - recall_m: 0.9984 - precision_m: 0.9991 - f1_m: 0.9988 - val_loss: 0.0025 - val_accuracy: 0.9966 - val_recall_m: 0.9981 - val_precision_m: 0.9985 - val_f1_m: 0.9983\n",
      "Epoch 10/10\n",
      "10000/10000 [==============================] - 19s 2ms/step - loss: 0.0021 - accuracy: 0.9974 - recall_m: 0.9989 - precision_m: 0.9985 - f1_m: 0.9987 - val_loss: 0.0021 - val_accuracy: 0.9974 - val_recall_m: 0.9996 - val_precision_m: 0.9978 - val_f1_m: 0.9987\n",
      "Train on 10000 samples, validate on 10000 samples\n",
      "Epoch 1/10\n",
      "10000/10000 [==============================] - 19s 2ms/step - loss: 0.0821 - accuracy: 0.8837 - recall_m: 0.9282 - precision_m: 0.9555 - f1_m: 0.9347 - val_loss: 0.1384 - val_accuracy: 0.8311 - val_recall_m: 0.9991 - val_precision_m: 0.8320 - val_f1_m: 0.8975\n",
      "Epoch 2/10\n",
      "10000/10000 [==============================] - 20s 2ms/step - loss: 0.0265 - accuracy: 0.9658 - recall_m: 0.9823 - precision_m: 0.9835 - f1_m: 0.9822 - val_loss: 0.0104 - val_accuracy: 0.9868 - val_recall_m: 0.9978 - val_precision_m: 0.9890 - val_f1_m: 0.9933\n",
      "Epoch 3/10\n",
      "10000/10000 [==============================] - 19s 2ms/step - loss: 0.0123 - accuracy: 0.9851 - recall_m: 0.9922 - precision_m: 0.9929 - f1_m: 0.9924 - val_loss: 0.0079 - val_accuracy: 0.9896 - val_recall_m: 0.9940 - val_precision_m: 0.9956 - val_f1_m: 0.9948\n",
      "Epoch 4/10\n",
      "10000/10000 [==============================] - 20s 2ms/step - loss: 0.0099 - accuracy: 0.9881 - recall_m: 0.9937 - precision_m: 0.9945 - f1_m: 0.9939 - val_loss: 0.0075 - val_accuracy: 0.9908 - val_recall_m: 0.9963 - val_precision_m: 0.9945 - val_f1_m: 0.9954\n",
      "Epoch 5/10\n",
      "10000/10000 [==============================] - 19s 2ms/step - loss: 0.0064 - accuracy: 0.9920 - recall_m: 0.9956 - precision_m: 0.9963 - f1_m: 0.9959 - val_loss: 0.0069 - val_accuracy: 0.9916 - val_recall_m: 0.9975 - val_precision_m: 0.9941 - val_f1_m: 0.9958\n",
      "Epoch 6/10\n",
      "10000/10000 [==============================] - 19s 2ms/step - loss: 0.0049 - accuracy: 0.9941 - recall_m: 0.9974 - precision_m: 0.9966 - f1_m: 0.9970 - val_loss: 0.0101 - val_accuracy: 0.9869 - val_recall_m: 0.9885 - val_precision_m: 0.9984 - val_f1_m: 0.9934\n",
      "Epoch 7/10\n",
      "10000/10000 [==============================] - 19s 2ms/step - loss: 0.0039 - accuracy: 0.9955 - recall_m: 0.9977 - precision_m: 0.9978 - f1_m: 0.9978 - val_loss: 0.0070 - val_accuracy: 0.9912 - val_recall_m: 0.9960 - val_precision_m: 0.9952 - val_f1_m: 0.9956\n",
      "Epoch 8/10\n",
      "10000/10000 [==============================] - 19s 2ms/step - loss: 0.0055 - accuracy: 0.9932 - recall_m: 0.9965 - precision_m: 0.9966 - f1_m: 0.9965 - val_loss: 0.0044 - val_accuracy: 0.9949 - val_recall_m: 0.9984 - val_precision_m: 0.9964 - val_f1_m: 0.9974\n",
      "Epoch 9/10\n",
      "10000/10000 [==============================] - 19s 2ms/step - loss: 0.0018 - accuracy: 0.9979 - recall_m: 0.9990 - precision_m: 0.9989 - f1_m: 0.9990 - val_loss: 0.0136 - val_accuracy: 0.9850 - val_recall_m: 0.9992 - val_precision_m: 0.9858 - val_f1_m: 0.9924\n",
      "Epoch 10/10\n",
      "10000/10000 [==============================] - 18s 2ms/step - loss: 0.0036 - accuracy: 0.9953 - recall_m: 0.9969 - precision_m: 0.9983 - f1_m: 0.9976 - val_loss: 0.0059 - val_accuracy: 0.9932 - val_recall_m: 0.9964 - val_precision_m: 0.9967 - val_f1_m: 0.9966\n",
      "Train on 10000 samples, validate on 10000 samples\n",
      "Epoch 1/10\n",
      "10000/10000 [==============================] - 20s 2ms/step - loss: 0.0463 - accuracy: 0.9357 - recall_m: 0.9534 - precision_m: 0.9823 - f1_m: 0.9627 - val_loss: 0.0067 - val_accuracy: 0.9926 - val_recall_m: 0.9996 - val_precision_m: 0.9930 - val_f1_m: 0.9962\n",
      "Epoch 2/10\n",
      "10000/10000 [==============================] - 19s 2ms/step - loss: 0.0102 - accuracy: 0.9887 - recall_m: 0.9947 - precision_m: 0.9941 - f1_m: 0.9943 - val_loss: 0.0050 - val_accuracy: 0.9939 - val_recall_m: 0.9960 - val_precision_m: 0.9978 - val_f1_m: 0.9969\n",
      "Epoch 3/10\n",
      "10000/10000 [==============================] - 20s 2ms/step - loss: 0.0096 - accuracy: 0.9885 - recall_m: 0.9952 - precision_m: 0.9934 - f1_m: 0.9940 - val_loss: 0.0021 - val_accuracy: 0.9976 - val_recall_m: 0.9984 - val_precision_m: 0.9992 - val_f1_m: 0.9988\n",
      "Epoch 4/10\n",
      "10000/10000 [==============================] - 19s 2ms/step - loss: 0.0043 - accuracy: 0.9952 - recall_m: 0.9969 - precision_m: 0.9982 - f1_m: 0.9975 - val_loss: 0.0020 - val_accuracy: 0.9976 - val_recall_m: 0.9993 - val_precision_m: 0.9983 - val_f1_m: 0.9988\n",
      "Epoch 5/10\n",
      "10000/10000 [==============================] - 19s 2ms/step - loss: 0.0047 - accuracy: 0.9947 - recall_m: 0.9965 - precision_m: 0.9981 - f1_m: 0.9973 - val_loss: 0.0025 - val_accuracy: 0.9959 - val_recall_m: 0.9966 - val_precision_m: 0.9993 - val_f1_m: 0.9980\n",
      "Epoch 6/10\n",
      "10000/10000 [==============================] - 20s 2ms/step - loss: 0.0028 - accuracy: 0.9966 - recall_m: 0.9983 - precision_m: 0.9983 - f1_m: 0.9983 - val_loss: 0.0020 - val_accuracy: 0.9973 - val_recall_m: 0.9994 - val_precision_m: 0.9979 - val_f1_m: 0.9987\n",
      "Epoch 7/10\n",
      "10000/10000 [==============================] - 18s 2ms/step - loss: 0.0023 - accuracy: 0.9967 - recall_m: 0.9980 - precision_m: 0.9987 - f1_m: 0.9983 - val_loss: 0.0166 - val_accuracy: 0.9761 - val_recall_m: 0.9766 - val_precision_m: 0.9995 - val_f1_m: 0.9877\n",
      "Epoch 8/10\n",
      "10000/10000 [==============================] - 19s 2ms/step - loss: 0.0015 - accuracy: 0.9984 - recall_m: 0.9991 - precision_m: 0.9993 - f1_m: 0.9992 - val_loss: 0.0092 - val_accuracy: 0.9890 - val_recall_m: 0.9892 - val_precision_m: 0.9998 - val_f1_m: 0.9944\n",
      "Epoch 9/10\n",
      "10000/10000 [==============================] - 20s 2ms/step - loss: 0.0018 - accuracy: 0.9977 - recall_m: 0.9988 - precision_m: 0.9989 - f1_m: 0.9989 - val_loss: 0.0089 - val_accuracy: 0.9897 - val_recall_m: 0.9899 - val_precision_m: 0.9998 - val_f1_m: 0.9948\n",
      "Epoch 10/10\n",
      "10000/10000 [==============================] - 19s 2ms/step - loss: 0.0010 - accuracy: 0.9987 - recall_m: 0.9991 - precision_m: 0.9996 - f1_m: 0.9994 - val_loss: 0.0016 - val_accuracy: 0.9983 - val_recall_m: 0.9987 - val_precision_m: 0.9996 - val_f1_m: 0.9992\n",
      "Train on 10000 samples, validate on 10000 samples\n",
      "Epoch 1/10\n",
      "10000/10000 [==============================] - 19s 2ms/step - loss: 0.0732 - accuracy: 0.8970 - recall_m: 0.9370 - precision_m: 0.9599 - f1_m: 0.9418 - val_loss: 0.0449 - val_accuracy: 0.9462 - val_recall_m: 0.9998 - val_precision_m: 0.9464 - val_f1_m: 0.9714\n",
      "Epoch 2/10\n",
      "10000/10000 [==============================] - 20s 2ms/step - loss: 0.0160 - accuracy: 0.9806 - recall_m: 0.9923 - precision_m: 0.9883 - f1_m: 0.9902 - val_loss: 0.0099 - val_accuracy: 0.9877 - val_recall_m: 0.9958 - val_precision_m: 0.9919 - val_f1_m: 0.9938\n",
      "Epoch 3/10\n",
      "10000/10000 [==============================] - 20s 2ms/step - loss: 0.0099 - accuracy: 0.9885 - recall_m: 0.9934 - precision_m: 0.9952 - f1_m: 0.9942 - val_loss: 0.0104 - val_accuracy: 0.9848 - val_recall_m: 0.9876 - val_precision_m: 0.9971 - val_f1_m: 0.9923\n",
      "Epoch 4/10\n",
      "10000/10000 [==============================] - 19s 2ms/step - loss: 0.0063 - accuracy: 0.9919 - recall_m: 0.9957 - precision_m: 0.9961 - f1_m: 0.9959 - val_loss: 0.0062 - val_accuracy: 0.9924 - val_recall_m: 0.9953 - val_precision_m: 0.9971 - val_f1_m: 0.9962\n",
      "Epoch 5/10\n",
      "10000/10000 [==============================] - 19s 2ms/step - loss: 0.0046 - accuracy: 0.9942 - recall_m: 0.9971 - precision_m: 0.9970 - f1_m: 0.9971 - val_loss: 0.0054 - val_accuracy: 0.9938 - val_recall_m: 0.9984 - val_precision_m: 0.9954 - val_f1_m: 0.9969\n",
      "Epoch 6/10\n",
      "10000/10000 [==============================] - 19s 2ms/step - loss: 0.0031 - accuracy: 0.9962 - recall_m: 0.9979 - precision_m: 0.9983 - f1_m: 0.9981 - val_loss: 0.0048 - val_accuracy: 0.9938 - val_recall_m: 0.9962 - val_precision_m: 0.9975 - val_f1_m: 0.9969\n",
      "Epoch 7/10\n",
      "10000/10000 [==============================] - 20s 2ms/step - loss: 0.0032 - accuracy: 0.9958 - recall_m: 0.9974 - precision_m: 0.9984 - f1_m: 0.9979 - val_loss: 0.0101 - val_accuracy: 0.9890 - val_recall_m: 0.9999 - val_precision_m: 0.9891 - val_f1_m: 0.9944\n",
      "Epoch 8/10\n",
      "10000/10000 [==============================] - 19s 2ms/step - loss: 0.0025 - accuracy: 0.9972 - recall_m: 0.9986 - precision_m: 0.9986 - f1_m: 0.9986 - val_loss: 0.0036 - val_accuracy: 0.9959 - val_recall_m: 0.9982 - val_precision_m: 0.9977 - val_f1_m: 0.9980\n",
      "Epoch 9/10\n",
      "10000/10000 [==============================] - 20s 2ms/step - loss: 0.0022 - accuracy: 0.9974 - recall_m: 0.9988 - precision_m: 0.9986 - f1_m: 0.9987 - val_loss: 0.0028 - val_accuracy: 0.9962 - val_recall_m: 0.9977 - val_precision_m: 0.9985 - val_f1_m: 0.9981\n",
      "Epoch 10/10\n",
      "10000/10000 [==============================] - 19s 2ms/step - loss: 0.0016 - accuracy: 0.9978 - recall_m: 0.9989 - precision_m: 0.9989 - f1_m: 0.9989 - val_loss: 0.0035 - val_accuracy: 0.9961 - val_recall_m: 0.9992 - val_precision_m: 0.9969 - val_f1_m: 0.9981\n"
     ]
    }
   ],
   "source": [
    "models = {class_1: C2C_SN(class_1, class_1) for class_1 in classes_to_train}"
   ]
  },
  {
   "cell_type": "markdown",
   "metadata": {
    "Collapsed": "false"
   },
   "source": [
    "# Test Data"
   ]
  },
  {
   "cell_type": "code",
   "execution_count": 16,
   "metadata": {
    "Collapsed": "false"
   },
   "outputs": [],
   "source": [
    "def calculate_scores(true_positive, false_positive, true_negative, false_negative):\n",
    "    precision = true_positive/(true_positive + false_positive)\n",
    "    recall = true_positive/(true_positive + false_negative)\n",
    "    f1 = 2 * precision * recall / (precision+recall)\n",
    "    accuracy = (true_positive + true_negative)/(true_positive + true_negative + false_positive + false_negative)\n",
    "    return precision, recall, f1, accuracy"
   ]
  },
  {
   "cell_type": "code",
   "execution_count": 18,
   "metadata": {
    "Collapsed": "false"
   },
   "outputs": [],
   "source": [
    "# Pick one example from the classes that have been trained on\n",
    "digit_indices = {i: np.random.choice(np.where(y_train == i)[0]) for i in classes_to_train}\n",
    "precision, recall, f1, accuracy = [], [], [], []\n",
    "\n",
    "for threshold in [0.9, 0.95, 0.975, 0.99, 0.995, 0.999]:\n",
    "    # actually an outlier, predicted an outlier\n",
    "    true_outliers = []\n",
    "    # actually a seen label, predicted an outlier\n",
    "    false_outliers = []\n",
    "    # actually a seen label, predicted as seen\n",
    "    true_inliers = []\n",
    "    # actually outlier, predicted as seen\n",
    "    false_inliers = []\n",
    "    false_inliers_info = []\n",
    "    for test_image, label in zip(x_test, y_test):\n",
    "        predictions = {class_label: model.predict([x_train[digit_indices[class_label]].reshape(1,28,28,1), test_image.reshape(1,28,28, 1)]) for class_label, model in models.items()}\n",
    "        predicted_class, confidence = sorted(predictions.items(), key = lambda el: el[1], reverse = True)[0]\n",
    "        if label in classes_to_train:\n",
    "        # Not outliers\n",
    "            if confidence < threshold:\n",
    "            # Not outliers, but predicted as outliers    \n",
    "                false_outliers.append(test_image)\n",
    "            else:\n",
    "            # Not outliers, and predicted as non outliers\n",
    "                true_inliers.append(test_image)\n",
    "        else:\n",
    "        # Outliers\n",
    "            if confidence < threshold:\n",
    "                # Outliers and predicted as outliers\n",
    "                true_outliers.append(test_image)\n",
    "            else:\n",
    "                # Outliers and predicted as non outliers\n",
    "                false_inliers.append(test_image)\n",
    "                false_inliers_info.append({\"True\":label, \"Predicted\":predicted_class, \"Confidence\":confidence})\n",
    "    p, r, f, a = calculate_scores(len(true_outliers), len(false_outliers), len(true_inliers), len(false_inliers))\n",
    "    precision.append(p)\n",
    "    recall.append(r)\n",
    "    f1.append(f)\n",
    "    accuracy.append(a)"
   ]
  },
  {
   "cell_type": "code",
   "execution_count": 23,
   "metadata": {
    "Collapsed": "false"
   },
   "outputs": [
    {
     "data": {
      "image/png": "[encoded data removed]",
      "text/plain": [
       "<Figure size 1008x576 with 1 Axes>"
      ]
     },
     "metadata": {},
     "output_type": "display_data"
    }
   ],
   "source": [
    "threshold_values = [0.9, 0.95, 0.975, 0.99, 0.995, 0.999]\n",
    "plt.plot(threshold_values, precision, label=\"Precision\")\n",
    "plt.plot(threshold_values, recall, label=\"Recall\")\n",
    "plt.plot(threshold_values, accuracy, label=\"Accuracy\")\n",
    "plt.plot(threshold_values, f1, label = \"F1\")\n",
    "plt.legend()\n",
    "plt.xlabel(\"Confidence Threshold\")\n",
    "plt.title(\"Variation in Metrics with change in threshold\")\n",
    "plt.savefig(\"variation_in_metrics.png\")\n",
    "plt.show()"
   ]
  },
  {
   "cell_type": "markdown",
   "metadata": {
    "Collapsed": "false"
   },
   "source": [
    "# Errors"
   ]
  },
  {
   "cell_type": "code",
   "execution_count": 28,
   "metadata": {
    "Collapsed": "false"
   },
   "outputs": [],
   "source": [
    "sns.reset_orig()"
   ]
  },
  {
   "cell_type": "code",
   "execution_count": 54,
   "metadata": {
    "Collapsed": "false"
   },
   "outputs": [
    {
     "name": "stdout",
     "output_type": "stream",
     "text": [
      "[100  85  28  46  93 107  53  16  20  61]\n"
     ]
    },
    {
     "data": {
      "image/png": "[encoded data removed]",
      "text/plain": [
       "<Figure size 1008x576 with 10 Axes>"
      ]
     },
     "metadata": {
      "needs_background": "light"
     },
     "output_type": "display_data"
    }
   ],
   "source": [
    "sample_false_outliers_indices = np.random.choice(len(false_outliers), 10, replace=False)\n",
    "print(sample_false_outliers_indices)\n",
    "sample_false_outliers = np.array(false_outliers)[sample_false_outliers_indices]\n",
    "\n",
    "n_row = 2\n",
    "n_col = 5\n",
    "fig, ax = plt.subplots(n_row, n_col)\n",
    "for row in range(n_row):\n",
    "    for col in range(n_col):\n",
    "        ax[row][col].imshow(sample_false_outliers[row*n_col + col])\n",
    "plt.savefig(\"false_outliers.png\")\n",
    "plt.show()"
   ]
  },
  {
   "cell_type": "code",
   "execution_count": 46,
   "metadata": {
    "Collapsed": "false"
   },
   "outputs": [
    {
     "name": "stdout",
     "output_type": "stream",
     "text": [
      "[1663  141 2257 2303 2205 1375 1911 2556 2119 1289]\n"
     ]
    },
    {
     "data": {
      "image/png": "[encoded data removed]",
      "text/plain": [
       "<Figure size 1008x576 with 10 Axes>"
      ]
     },
     "metadata": {
      "needs_background": "light"
     },
     "output_type": "display_data"
    }
   ],
   "source": [
    "sample_false_inliers_indices = np.random.choice(len(false_inliers),10, replace=False)\n",
    "print(sample_false_inliers_indices)\n",
    "sample_false_inliers = np.array(false_inliers)[sample_false_inliers_indices]\n",
    "\n",
    "sample_false_inliers_info = np.array(false_inliers_info)[sample_false_inliers_indices]\n",
    "\n",
    "n_row = 2\n",
    "n_col = 5\n",
    "fig, ax = plt.subplots(n_row, n_col)\n",
    "for row in range(n_row):\n",
    "    for col in range(n_col):\n",
    "        ax[row][col].imshow(sample_false_inliers[row*n_col + col])\n",
    "plt.savefig(\"false_inliers.png\")\n",
    "plt.show()"
   ]
  },
  {
   "cell_type": "code",
   "execution_count": 44,
   "metadata": {
    "Collapsed": "false"
   },
   "outputs": [
    {
     "data": {
      "text/plain": [
       "array([{'True': 7, 'Predicted': 3, 'Confidence': array([[0.9999995]], dtype=float32)},\n",
       "       {'True': 9, 'Predicted': 4, 'Confidence': array([[0.99999523]], dtype=float32)},\n",
       "       {'True': 6, 'Predicted': 0, 'Confidence': array([[0.99988735]], dtype=float32)},\n",
       "       {'True': 7, 'Predicted': 4, 'Confidence': array([[0.99999964]], dtype=float32)},\n",
       "       {'True': 8, 'Predicted': 3, 'Confidence': array([[0.9999589]], dtype=float32)},\n",
       "       {'True': 9, 'Predicted': 4, 'Confidence': array([[0.99999964]], dtype=float32)},\n",
       "       {'True': 7, 'Predicted': 2, 'Confidence': array([[0.99994326]], dtype=float32)},\n",
       "       {'True': 9, 'Predicted': 4, 'Confidence': array([[0.9999999]], dtype=float32)},\n",
       "       {'True': 7, 'Predicted': 3, 'Confidence': array([[0.9999949]], dtype=float32)},\n",
       "       {'True': 9, 'Predicted': 3, 'Confidence': array([[0.9998995]], dtype=float32)}],\n",
       "      dtype=object)"
      ]
     },
     "execution_count": 44,
     "metadata": {},
     "output_type": "execute_result"
    }
   ],
   "source": [
    "sample_false_inliers_info"
   ]
  },
  {
   "cell_type": "code",
   "execution_count": null,
   "metadata": {
    "Collapsed": "false"
   },
   "outputs": [],
   "source": []
  },
  {
   "cell_type": "markdown",
   "metadata": {
    "Collapsed": "false"
   },
   "source": [
    "# F1 score calculation"
   ]
  },
  {
   "cell_type": "code",
   "execution_count": 21,
   "metadata": {
    "Collapsed": "false"
   },
   "outputs": [],
   "source": [
    "metrics = {0.5: (296, 14, 6017, 3673),\n",
    "0.6: (322, 17, 6014, 3647),\n",
    "0.7: (342, 19, 6012, 3627),\n",
    "0.8: (374, 20, 6011, 3595),\n",
    "0.9: (434, 24, 6007, 3535),\n",
    "0.95: (511, 31, 6000, 3458),\n",
    "0.99: (722, 123, 5908, 3247),\n",
    "0.995: (919, 297, 5734, 3050),\n",
    "0.999: (1947, 1424, 4607, 2022),\n",
    "0.9999: (3432, 3643, 2388, 537)}"
   ]
  },
  {
   "cell_type": "code",
   "execution_count": 23,
   "metadata": {
    "Collapsed": "false"
   },
   "outputs": [
    {
     "data": {
      "text/plain": [
       "{0.5: (0.9548387096774194, 0.0745779793398841, 0.13835008179481187, 0.6313),\n",
       " 0.6: (0.9498525073746312, 0.08112874779541446, 0.14948932219127203, 0.6336),\n",
       " 0.7: (0.9473684210526315, 0.08616780045351474, 0.1579676674364896, 0.6354),\n",
       " 0.8: (0.949238578680203, 0.09423028470647518, 0.17144166857666743, 0.6385),\n",
       " 0.9: (0.9475982532751092, 0.10934744268077601, 0.1960695730743167, 0.6441),\n",
       " 0.95: (0.9428044280442804, 0.12874779541446207, 0.22655730436710264, 0.6511),\n",
       " 0.99: (0.8544378698224852, 0.18190980095742001, 0.29995845450768593, 0.663),\n",
       " 0.995: (0.7557565789473685, 0.23154446963970773, 0.3544840887174542, 0.6653),\n",
       " 0.999: (0.5775734203500444, 0.490551776266062, 0.530517711171662, 0.6554),\n",
       " 0.9999: (0.48508833922261485, 0.8647014361300076, 0.6215139442231076, 0.582)}"
      ]
     },
     "execution_count": 23,
     "metadata": {},
     "output_type": "execute_result"
    }
   ],
   "source": [
    "{el:calculate_scores(*values) for el, values in metrics.items()}"
   ]
  },
  {
   "cell_type": "code",
   "execution_count": 76,
   "metadata": {
    "Collapsed": "false"
   },
   "outputs": [],
   "source": [
    "a = {0.99:  (1645, 59, 5972, 2324),\n",
    "0.995: (1772, 111, 5920, 2197),\n",
    "0.999: (2150, 673, 5358, 1819)}"
   ]
  },
  {
   "cell_type": "code",
   "execution_count": 77,
   "metadata": {
    "Collapsed": "false"
   },
   "outputs": [
    {
     "data": {
      "text/plain": [
       "{0.99: (0.9653755868544601, 0.4144620811287478, 0.5799400669839591, 0.7617),\n",
       " 0.995: (0.9410515135422198, 0.4464600655076846, 0.6056049213943951, 0.7692),\n",
       " 0.999: (0.7616011335458732, 0.5416981607457798, 0.6330977620730271, 0.7508)}"
      ]
     },
     "execution_count": 77,
     "metadata": {},
     "output_type": "execute_result"
    }
   ],
   "source": [
    "{el:calculate_scores(*values) for el, values in a.items()}"
   ]
  },
  {
   "cell_type": "code",
   "execution_count": 101,
   "metadata": {
    "Collapsed": "false"
   },
   "outputs": [
    {
     "data": {
      "text/plain": [
       "(0.8150908244061481, 0.4409171075837742, 0.5722694571615434, 0.7384)"
      ]
     },
     "execution_count": 101,
     "metadata": {},
     "output_type": "execute_result"
    }
   ],
   "source": [
    "calculate_scores(1750, 397, 5634, 2219)"
   ]
  },
  {
   "cell_type": "code",
   "execution_count": 118,
   "metadata": {
    "Collapsed": "false"
   },
   "outputs": [
    {
     "data": {
      "text/plain": [
       "(0.9458794587945879, 0.3875031494079113, 0.5497765862377122, 0.7481)"
      ]
     },
     "execution_count": 118,
     "metadata": {},
     "output_type": "execute_result"
    }
   ],
   "source": [
    "calculate_scores(1538, 88, 5943, 2431)"
   ]
  },
  {
   "cell_type": "code",
   "execution_count": null,
   "metadata": {
    "Collapsed": "false"
   },
   "outputs": [],
   "source": []
  }
 ],
 "metadata": {
  "kernelspec": {
   "display_name": "Python 3",
   "language": "python",
   "name": "python3"
  },
  "language_info": {
   "codemirror_mode": {
    "name": "ipython",
    "version": 3
   },
   "file_extension": ".py",
   "mimetype": "text/x-python",
   "name": "python",
   "nbconvert_exporter": "python",
   "pygments_lexer": "ipython3",
   "version": "3.7.5"
  }
 },
 "nbformat": 4,
 "nbformat_minor": 4
}
